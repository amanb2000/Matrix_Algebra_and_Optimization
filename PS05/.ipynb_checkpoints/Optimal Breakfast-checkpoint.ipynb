{
 "cells": [
  {
   "cell_type": "markdown",
   "metadata": {},
   "source": [
    "# An Optimal Breakfast\n",
    "\n",
    "_ECE367 PS05 Problem 5.5 -- Aman Bhargava_\n",
    "\n",
    "There are $n=3$ food types, each with certain nutritional characteristics. \n",
    "\n",
    "__GOAL:__ Find optimal composition of breakfast as follows: \n",
    "\n",
    "- Minimizing cost ($c^T = [0.15, 0.25, 0.05]$)\n",
    "- Number of calories between 2000 and 2250 ($[70, 121, 65]x < 2250$, $[70, 121, 65]x > 2000$)\n",
    "- Vitamin between 5000 and 10000 ($[107, 500, 0]x < 10000$, $[107, 500, 0]x > 5000$)\n",
    "- Sugar no larger than 1000 ($[45, 40, 60]x < 1000$)\n",
    "- Maximum number of servings total is 10 ($[1, 1, 1]x < 10$).\n",
    "\n",
    "## LP Formatting"
   ]
  },
  {
   "cell_type": "code",
   "execution_count": 20,
   "metadata": {},
   "outputs": [
    {
     "name": "stderr",
     "output_type": "stream",
     "text": [
      "\u001b[32m\u001b[1m  Resolving\u001b[22m\u001b[39m package versions...\n",
      "\u001b[32m\u001b[1m  Installed\u001b[22m\u001b[39m GLPK_jll ─ v4.64.0+0\n",
      "\u001b[32m\u001b[1m  Installed\u001b[22m\u001b[39m GMP_jll ── v6.1.2+6\n",
      "\u001b[32m\u001b[1m  Installed\u001b[22m\u001b[39m GLPK ───── v0.14.3\n",
      "######################################################################### 100.0%\n",
      "######################################################################### 100.0%\n",
      "\u001b[32m\u001b[1mUpdating\u001b[22m\u001b[39m `~/.julia/environments/v1.5/Project.toml`\n",
      " \u001b[90m [60bf3e95] \u001b[39m\u001b[92m+ GLPK v0.14.3\u001b[39m\n",
      "\u001b[32m\u001b[1mUpdating\u001b[22m\u001b[39m `~/.julia/environments/v1.5/Manifest.toml`\n",
      " \u001b[90m [60bf3e95] \u001b[39m\u001b[92m+ GLPK v0.14.3\u001b[39m\n",
      " \u001b[90m [e8aa6df9] \u001b[39m\u001b[92m+ GLPK_jll v4.64.0+0\u001b[39m\n",
      " \u001b[90m [781609d7] \u001b[39m\u001b[92m+ GMP_jll v6.1.2+6\u001b[39m\n",
      "\u001b[32m\u001b[1m   Building\u001b[22m\u001b[39m GLPK → `~/.julia/packages/GLPK/tMXzS/deps/build.log`\n",
      "┌ Info: Precompiling GLPK [60bf3e95-4087-53dc-ae20-288a0d20c6a6]\n",
      "└ @ Base loading.jl:1278\n"
     ]
    }
   ],
   "source": [
    "using JuMP\n",
    "import GLPK"
   ]
  },
  {
   "cell_type": "code",
   "execution_count": 26,
   "metadata": {},
   "outputs": [
    {
     "name": "stdout",
     "output_type": "stream",
     "text": [
      "Min 0.15 x1 + 0.25 x2 + 0.05 x3\n",
      "Subject to\n",
      " 70 x1 + 121 x2 + 65 x3 ≥ 2000.0\n",
      " 107 x1 + 500 x2 ≥ 5000.0\n",
      " 70 x1 + 121 x2 + 65 x3 ≤ 2250.0\n",
      " 107 x1 + 500 x2 ≤ 10000.0\n",
      " 45 x1 + 40 x2 + 60 x3 ≤ 1000.0\n",
      " x1 + x2 + x3 ≤ 10.0\n",
      " x1 ≥ 0.0\n",
      " x2 ≥ 0.0\n",
      " x3 ≥ 0.0\n",
      " x1 ≤ 10.0\n",
      " x2 ≤ 10.0\n",
      " x3 ≤ 10.0\n"
     ]
    }
   ],
   "source": [
    "model = Model(GLPK.Optimizer)\n",
    "\n",
    "@variable(model, 0 <= x1 <= 10)\n",
    "@variable(model, 0 <= x2 <= 10)\n",
    "@variable(model, 0 <= x3 <= 10)\n",
    "\n",
    "@objective(model, Min, 0.15x1 + 0.25x2 + 0.05x3)\n",
    "\n",
    "@constraint(model, 70x1+121x2+65x3 <= 2250)\n",
    "@constraint(model, 70x1+121x2+65x3 >= 2000)\n",
    "\n",
    "@constraint(model, 107x1+500x2 <= 10000)\n",
    "@constraint(model, 107x1+500x2 >= 5000)\n",
    "\n",
    "@constraint(model, 45x1+40x2+60x3 <= 1000)\n",
    "\n",
    "print(model)"
   ]
  },
  {
   "cell_type": "code",
   "execution_count": 27,
   "metadata": {},
   "outputs": [
    {
     "name": "stdout",
     "output_type": "stream",
     "text": [
      "Termination status : INFEASIBLE\n",
      "Primal status      : NO_SOLUTION\n"
     ]
    }
   ],
   "source": [
    "optimize!(model)\n",
    "println(\"Termination status : \", termination_status(model))\n",
    "println(\"Primal status      : \", primal_status(model))"
   ]
  },
  {
   "cell_type": "code",
   "execution_count": 28,
   "metadata": {},
   "outputs": [
    {
     "name": "stdout",
     "output_type": "stream",
     "text": [
      "Objective value : 18.30000000000001\n",
      "corn            : 158.0000000000001\n",
      "milk            : 10.0\n",
      "bread           : -158.0000000000001\n"
     ]
    }
   ],
   "source": [
    "obj_value = objective_value(model)\n",
    "corn = value(x1)\n",
    "milk = value(x2)\n",
    "bread = value(x3)\n",
    "\n",
    "println(\"Objective value : \", obj_value)\n",
    "println(\"corn            : \", corn)\n",
    "println(\"milk            : \", milk)\n",
    "println(\"bread           : \", bread)"
   ]
  },
  {
   "cell_type": "code",
   "execution_count": null,
   "metadata": {},
   "outputs": [],
   "source": []
  }
 ],
 "metadata": {
  "kernelspec": {
   "display_name": "Julia 1.5.1",
   "language": "julia",
   "name": "julia-1.5"
  },
  "language_info": {
   "file_extension": ".jl",
   "mimetype": "application/julia",
   "name": "julia",
   "version": "1.5.1"
  }
 },
 "nbformat": 4,
 "nbformat_minor": 4
}
