{
 "cells": [
  {
   "cell_type": "markdown",
   "metadata": {},
   "source": [
    "# L1 Regularized Least Squares\n",
    "\n",
    "_ECE367 PS05 Problem 5.4 -- Aman Bhargava_\n",
    "\n",
    "__Optimization Problem: __ $$\\min_{x\\in\\mathbb{R}^2} ||Ax-y||_2^2 + \\gamma ||x||_1$$\n",
    "\n",
    "For $0 < \\gamma \\in \\mathbb{R}$. The minimizing $x$ is denoted $x_\\gamma^*$. \n",
    "\n",
    "## Part A\n",
    "\n",
    "Consider $$A = \\begin{bmatrix}0 & 2 \\\\ 1 & 0 \\\\ 2 & 1\\end{bmatrix}, \\,\\,\\,\\,\\,\\,y=\\begin{bmatrix}-2\\\\ 5\\\\ 9\\\\ \\end{bmatrix}, \\,\\,\\,\\,\\,\\, \\gamma=0.$$\n",
    "\n",
    "Derive that $x_0^* = (5, -1)$. \n",
    "\n",
    "### Part A Solution\n",
    "\n",
    "We re-derive using the formula derived in class for solution to unconstrained least-squares:\n",
    "\n",
    "$$x^* = (A^T A)^{-1}A^Ty$$\n",
    "\n",
    "## Part B\n",
    "\n",
    "Figure 2 is a plot of $x_\\gamma^*$ as a function of $\\gamma$. We observe that there is a range of $\\gamma$ where $x^*_{\\gamma, 2} = 0$. _What is the smallest value of $\\gamma = \\gamma_{\\min}$ such that $x^*_{\\gamma, 2} = 0$?_ Also, what is the value of $x^*_{\\gamma_\\min, 1}$?\n",
    "\n",
    "### Part B Solution\n",
    "\n",
    "Potential methods of solving: \n",
    "- Start with the fact that the optimum has second index = 0.\n",
    "    - Know that the gradient must be zero at that point...???\n",
    "- Do your own plot using a generic convex optimizer? Read off the plot results?\n",
    "    \n",
    "## Part C\n",
    "\n",
    "It can be ovserved that $\\gamma > \\gamma_\\min$ leads to $x_\\gamma^*$ of the form $(x_{\\gamma 1}^*,0)$. Explain why.\n",
    "\n",
    "### Part C Answer\n",
    "\n",
    "- The second index of $x_\\gamma^*$ was 'eliminated' first because, of the two indexes, it explained less of the correlation between rows of $A$ and indexes of $y$. \n",
    "- As $\\gamma$ is increased, this does not change, so the index remains 0-valued. \n",
    "\n",
    "\n",
    "## Part D\n",
    "\n",
    "Solve for $x_{\\gamma}^*$ for $\\gamma \\geq \\gamma_\\min$."
   ]
  },
  {
   "cell_type": "code",
   "execution_count": 1,
   "metadata": {},
   "outputs": [],
   "source": [
    "using LinearAlgebra"
   ]
  },
  {
   "cell_type": "code",
   "execution_count": 2,
   "metadata": {},
   "outputs": [
    {
     "data": {
      "text/plain": [
       "2-element Array{Float64,1}:\n",
       "  5.0\n",
       " -0.9999999999999998"
      ]
     },
     "execution_count": 2,
     "metadata": {},
     "output_type": "execute_result"
    }
   ],
   "source": [
    "# PART A #\n",
    "\n",
    "A = [0 2; 1 0; 2 1];\n",
    "y = [-2; 5; 9];\n",
    "\n",
    "x_0_star = inv(transpose(A)*A)*transpose(A)*y"
   ]
  },
  {
   "cell_type": "code",
   "execution_count": 3,
   "metadata": {},
   "outputs": [],
   "source": [
    "# PART B #"
   ]
  },
  {
   "cell_type": "code",
   "execution_count": null,
   "metadata": {},
   "outputs": [],
   "source": [
    "# PART C #"
   ]
  }
 ],
 "metadata": {
  "kernelspec": {
   "display_name": "Julia 1.5.1",
   "language": "julia",
   "name": "julia-1.5"
  },
  "language_info": {
   "file_extension": ".jl",
   "mimetype": "application/julia",
   "name": "julia",
   "version": "1.5.1"
  }
 },
 "nbformat": 4,
 "nbformat_minor": 4
}
