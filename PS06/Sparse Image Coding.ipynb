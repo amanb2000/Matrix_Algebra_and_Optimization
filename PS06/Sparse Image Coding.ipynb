{
 "cells": [
  {
   "cell_type": "markdown",
   "metadata": {},
   "source": [
    "# Sparse Image Coding\n",
    "\n",
    "_ECE367 Problem Set 6 -- Aman Bhargava -- 1005189733__\n",
    "\n",
    "Using $l_1$ regularization for image compression. \n",
    "\n",
    "## Problem Background and Formulation\n",
    "\n",
    "- [ ] Read Section 9.6.2 in OptM.\n",
    "- [ ] Read Example 9.19 in OptM.\n",
    "\n",
    "\n",
    "- $M \\in \\{0,\\dots,255\\}^{n\\times n}$ is a matrix representing grayscale images. \n",
    "- Orthonormal $H \\in \\mathbb{R}^{n\\times n}$ is used for 2D wavelet transform. \n",
    "- Analogy: $\\tilde{y} = A^T y$ -- Wavelet transform coefficients for $M$ are: \n",
    "$$\\tilde{M} = HMH^T$$\n",
    "- Where $\\tilde{M}$ is an $n\\times n$ matrix. \n",
    "    - Values are 'concentrated' -- entries are very small magnitude for the most part, relatively few large coefficients. \n",
    "- $H$ encodes a bunch of orthogonal Haar Wavelets. \n",
    "\n",
    "**Wavelet Encoding with** $l_1$ **Regularization:**\n",
    "$$f(\\lambda) = \\min_{X\\in \\mathbb{R}^{n\\times n}} \\frac{1}{2}||H^T X H - M||^2_F + \\lambda||X||_1$$\n",
    "\n",
    "- Optimal $X^*$ leads to optimal approximation of $M$ which is $\\hat{M} = H^TX^*H$. \n",
    "- $||X||_1$ is just the $l_1$ norm of the vectorized version of $X$. \n",
    "- $||\\cdot||_F^2$ is just $l_2$ norm squared of vectorized $\\cdot$. \n",
    "\n",
    "## Part A\n",
    "\n",
    "_Derive expression for inverse wavelet transform. Use H to express M in terms of_ $\\tilde{M}$. _Why is it important to use specifically designed transform matrix H rather than random orthonormal matrix?_\n",
    "\n",
    "---------------------------\n",
    "\n",
    "Starting equation: $\\tilde{M} = HMH^T$\n",
    "$$H^T \\tilde{M} = MH^T$$\n",
    "$$H^T \\tilde{M} H = M$$\n",
    "$$\\therefore M = H^T \\tilde M H$$\n",
    "\n",
    "It is important to use a specifically designed transform matrix $H$ because $H$ is composed of orthonormal discrete Haar wavelet vectors. When images are projected onto the vectors, they tend to be already somewhat sparse. It turns out that images and signals in general can be well-approximated by relatively few (i.e. a sparse set of) wavelets. A randomly selected orthonormal matrix would not necessarily yield an accurate sparse representation. \n",
    "\n",
    "## Part B\n",
    "\n",
    "_Show that_ $f(\\lambda)$ _is a separable problem. I.e., it reduces to a set of single-variable problems. Example of separable in OptM Ex. 9.19. Write down the solution to_ $f(\\lambda)$.\n",
    "\n",
    "**Useful Matrix Properties**\n",
    "- $||V||_F^2 = \\text{trace}(VV^T)$\n",
    "- $\\text{trace}(ABC) = \\text{trace}(CAB) = \\text{trace}(BCA)$\n",
    "\n",
    "-------------------\n",
    "\n",
    "<<>>\n",
    "\n",
    "## \n"
   ]
  },
  {
   "cell_type": "code",
   "execution_count": null,
   "metadata": {},
   "outputs": [],
   "source": []
  }
 ],
 "metadata": {
  "kernelspec": {
   "display_name": "Julia 1.5.1",
   "language": "julia",
   "name": "julia-1.5"
  },
  "language_info": {
   "file_extension": ".jl",
   "mimetype": "application/julia",
   "name": "julia",
   "version": "1.5.1"
  }
 },
 "nbformat": 4,
 "nbformat_minor": 4
}
