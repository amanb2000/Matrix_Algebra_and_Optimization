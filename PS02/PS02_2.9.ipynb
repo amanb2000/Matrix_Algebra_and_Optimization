{
 "cells": [
  {
   "cell_type": "markdown",
   "metadata": {},
   "source": [
    "# ECE367: PS02 Part 2 -- PageRank\n",
    "\n",
    "## Framing\n",
    "\n",
    "$N$ is the number of URL's. $J$ is the adjacency matrix.\n",
    "\n",
    "### Power Iteration Method\n",
    "\n",
    "* Method for calculating eigenvalues/vectors for diagonalizable matrix. \n",
    "* \n",
    "\n",
    "## Steps\n",
    "\n",
    "- [x] Load the pagerank data from `pagerank_urls.txt`, `pagerank_adj.mat`.\n",
    "- [x] Based on adjacency matrix $J$ calculate $$A_{i, j} = \\frac{J_{i, j}}{\\sum_{k=1}^{N}J_{k,j}}$$\n",
    "    - [x] Verify that the rows add to 1.\n",
    "- [x] Implement the **power iteration method** (OptM 7.1.1) for 10 iterations.\n",
    "    - [x] Calculate $e(k+1) = ||Ax(k+1) - x(k+1)||_2$\n",
    "    - [x] Plot $\\log(e(k+1))$ vs. k\n",
    "- [ ] Implement **shift-invert power iteration** and **Rayleigh quotient iteration** algorithms (OptM 7.1.2, 7.1.3). \n",
    "    - [ ] For shift-invert: $\\sigma = 0.99$.\n",
    "    - [ ] For Rayleigh quotient: $\\sigma_1 = \\sigma_2 = 0.99$ for first two iterations.\n",
    "        - [ ] $\\sigma_k = \\frac{x^*(k) Ax(k)}{x^*(k)x(k)}$ for k > 2.\n",
    "    - [ ] Plot $\\log(e(k+1))$ vs. k for each plot.\n",
    "- [ ] List the (page index, PageRank score) tuples for **top 5** and **bottom 5** pages according to PageRank scores."
   ]
  },
  {
   "cell_type": "code",
   "execution_count": 2,
   "metadata": {},
   "outputs": [
    {
     "data": {
      "text/html": [
       "<script>\n",
       "// Immediately-invoked-function-expression to avoid global variables.\n",
       "(function() {\n",
       "    var warning_div = document.getElementById(\"webio-warning-5490180560862812783\");\n",
       "    var hide = function () {\n",
       "        var script = document.getElementById(\"webio-setup-1857378428935753588\");\n",
       "        var parent = script && script.parentElement;\n",
       "        var grandparent = parent && parent.parentElement;\n",
       "        if (grandparent) {\n",
       "            grandparent.style.display = \"none\";\n",
       "        }\n",
       "        warning_div.style.display = \"none\";\n",
       "    };\n",
       "    if (typeof Jupyter !== \"undefined\") {\n",
       "        console.log(\"WebIO detected Jupyter notebook environment.\");\n",
       "        // Jupyter notebook.\n",
       "        var extensions = (\n",
       "            Jupyter\n",
       "            && Jupyter.notebook.config.data\n",
       "            && Jupyter.notebook.config.data.load_extensions\n",
       "        );\n",
       "        if (extensions && extensions[\"webio-jupyter-notebook\"]) {\n",
       "            // Extension already loaded.\n",
       "            console.log(\"Jupyter WebIO nbextension detected; not loading ad-hoc.\");\n",
       "            hide();\n",
       "            return;\n",
       "        }\n",
       "    } else if (window.location.pathname.includes(\"/lab\")) {\n",
       "        // Guessing JupyterLa\n",
       "        console.log(\"Jupyter Lab detected; make sure the @webio/jupyter-lab-provider labextension is installed.\");\n",
       "        hide();\n",
       "        return;\n",
       "    }\n",
       "})();\n",
       "\n",
       "</script>\n",
       "<p\n",
       "    id=\"webio-warning-5490180560862812783\"\n",
       "    class=\"output_text output_stderr\"\n",
       "    style=\"padding: 1em; font-weight: bold;\"\n",
       ">\n",
       "    Unable to load WebIO. Please make sure WebIO works for your Jupyter client.\n",
       "    For troubleshooting, please see <a href=\"https://juliagizmos.github.io/WebIO.jl/latest/providers/ijulia/\">\n",
       "    the WebIO/IJulia documentation</a>.\n",
       "    <!-- TODO: link to installation docs. -->\n",
       "</p>\n"
      ],
      "text/plain": [
       "HTML{String}(\"<script>\\n// Immediately-invoked-function-expression to avoid global variables.\\n(function() {\\n    var warning_div = document.getElementById(\\\"webio-warning-5490180560862812783\\\");\\n    var hide = function () {\\n        var script = document.getElementById(\\\"webio-setup-1857378428935753588\\\");\\n        var parent = script && script.parentElement;\\n        var grandparent = parent && parent.parentElement;\\n        if (grandparent) {\\n            grandparent.style.display = \\\"none\\\";\\n        }\\n        warning_div.style.display = \\\"none\\\";\\n    };\\n    if (typeof Jupyter !== \\\"undefined\\\") {\\n        console.log(\\\"WebIO detected Jupyter notebook environment.\\\");\\n        // Jupyter notebook.\\n        var extensions = (\\n            Jupyter\\n            && Jupyter.notebook.config.data\\n            && Jupyter.notebook.config.data.load_extensions\\n        );\\n        if (extensions && extensions[\\\"webio-jupyter-notebook\\\"]) {\\n            // Extension already loaded.\\n            console.log(\\\"Jupyter WebIO nbextension detected; not loading ad-hoc.\\\");\\n            hide();\\n            return;\\n        }\\n    } else if (window.location.pathname.includes(\\\"/lab\\\")) {\\n        // Guessing JupyterLa\\n        console.log(\\\"Jupyter Lab detected; make sure the @webio/jupyter-lab-provider labextension is installed.\\\");\\n        hide();\\n        return;\\n    }\\n})();\\n\\n</script>\\n<p\\n    id=\\\"webio-warning-5490180560862812783\\\"\\n    class=\\\"output_text output_stderr\\\"\\n    style=\\\"padding: 1em; font-weight: bold;\\\"\\n>\\n    Unable to load WebIO. Please make sure WebIO works for your Jupyter client.\\n    For troubleshooting, please see <a href=\\\"https://juliagizmos.github.io/WebIO.jl/latest/providers/ijulia/\\\">\\n    the WebIO/IJulia documentation</a>.\\n    <!-- TODO: link to installation docs. -->\\n</p>\\n\")"
      ]
     },
     "metadata": {},
     "output_type": "display_data"
    },
    {
     "name": "stderr",
     "output_type": "stream",
     "text": [
      "┌ Info: For saving to png with the Plotly backend PlotlyBase has to be installed.\n",
      "└ @ Plots /Users/abhargava/.julia/packages/Plots/a7Kbp/src/backends.jl:373\n"
     ]
    },
    {
     "data": {
      "text/plain": [
       "Plots.PlotlyBackend()"
      ]
     },
     "execution_count": 2,
     "metadata": {},
     "output_type": "execute_result"
    }
   ],
   "source": [
    "# IMPORT BOX #\n",
    "# IMPORT BOX #\n",
    "using Plots\n",
    "using Plotly\n",
    "using GR\n",
    "using SymPy\n",
    "using MAT\n",
    "using LinearAlgebra\n",
    "\n",
    "plotly()"
   ]
  },
  {
   "cell_type": "code",
   "execution_count": 3,
   "metadata": {},
   "outputs": [
    {
     "data": {
      "text/plain": [
       "Array{Float64,2}"
      ]
     },
     "execution_count": 3,
     "metadata": {},
     "output_type": "execute_result"
    }
   ],
   "source": [
    "file_J = matopen(\"PS02_dataSet/pagerank_adj.mat\")\n",
    "J = read(file_J)[\"J\"];\n",
    "typeof(J)"
   ]
  },
  {
   "cell_type": "code",
   "execution_count": 4,
   "metadata": {},
   "outputs": [
    {
     "data": {
      "text/plain": [
       "normalize_J (generic function with 1 method)"
      ]
     },
     "execution_count": 4,
     "metadata": {},
     "output_type": "execute_result"
    }
   ],
   "source": [
    "# Normalization function for J\n",
    "function normalize_J(J::Array{Float64,2})\n",
    "    A = zeros(size(J))\n",
    "    \n",
    "    for i = 1:size(J,1)\n",
    "        if(sum(J[:,i]) == 0)\n",
    "            println(\"Sum of row \",i,\" equals 0...\")\n",
    "        else\n",
    "            A[:,i] = J[:,i]/sum(J[:,i])\n",
    "        end\n",
    "        \n",
    "    end\n",
    "    A\n",
    "end"
   ]
  },
  {
   "cell_type": "code",
   "execution_count": 5,
   "metadata": {},
   "outputs": [],
   "source": [
    "A = normalize_J(J);\n",
    "x = sum(A, dims=1);"
   ]
  },
  {
   "cell_type": "code",
   "execution_count": 6,
   "metadata": {},
   "outputs": [
    {
     "name": "stdout",
     "output_type": "stream",
     "text": [
      "Sum of A's columns are all 1. Checks out\n"
     ]
    }
   ],
   "source": [
    "good_sum = true\n",
    "\n",
    "for i = 1:size(x,1)\n",
    "    if abs(x[i] - 1) > 0.00001\n",
    "        good_sum = false\n",
    "        println(\"incorrect sum at \",i,\" -- x[i] = \",x[i])\n",
    "    end\n",
    "end\n",
    "\n",
    "if good_sum\n",
    "    println(\"Sum of A's columns are all 1. Checks out\")\n",
    "else\n",
    "    println(\"Sum of A's columns are not all 1.\")\n",
    "end\n",
    "\n",
    "x = transpose(x); # Turning x into a column vector"
   ]
  },
  {
   "cell_type": "code",
   "execution_count": 7,
   "metadata": {},
   "outputs": [
    {
     "data": {
      "text/plain": [
       "get_err (generic function with 1 method)"
      ]
     },
     "execution_count": 7,
     "metadata": {},
     "output_type": "execute_result"
    }
   ],
   "source": [
    "function get_err(A::Array{Float64,2}, x)\n",
    "    norm(A*x - x)\n",
    "end"
   ]
  },
  {
   "cell_type": "code",
   "execution_count": 8,
   "metadata": {},
   "outputs": [
    {
     "data": {
      "text/plain": [
       "power_iteration (generic function with 1 method)"
      ]
     },
     "execution_count": 8,
     "metadata": {},
     "output_type": "execute_result"
    }
   ],
   "source": [
    "function power_iteration(A::Array{Float64,2}, xin, num_iters)\n",
    "    x = copy(xin)\n",
    "    if norm(x) != 1\n",
    "        x = x./norm(x)\n",
    "    end\n",
    "    \n",
    "    errors = zeros(num_iters)\n",
    "    \n",
    "    λ = 0   \n",
    "    for k = 1:num_iters\n",
    "        y = A*x\n",
    "        x = y/norm(y)\n",
    "        λ = transpose(x)*A*x\n",
    "        errors[k] = get_err(A, x)\n",
    "    end\n",
    "    \n",
    "    return (x, errors)\n",
    "end"
   ]
  },
  {
   "cell_type": "code",
   "execution_count": 9,
   "metadata": {},
   "outputs": [
    {
     "data": {
      "text/plain": [
       "shift_invert_power_iteration (generic function with 2 methods)"
      ]
     },
     "execution_count": 9,
     "metadata": {},
     "output_type": "execute_result"
    }
   ],
   "source": [
    "function shift_invert_power_iteration(A::Array{Float64,2}, xin, num_iters, σ=0.99)\n",
    "    x = copy(xin)\n",
    "    if norm(x) != 1\n",
    "        x = x./norm(x)\n",
    "    end\n",
    "    \n",
    "    errors = zeros(num_iters)\n",
    "    \n",
    "    λ = 0   \n",
    "    n = size(A,1)\n",
    "    for k = 1:num_iters\n",
    "        y = inv(A-(σ.*I(n)))*x\n",
    "        x = y/norm(y)\n",
    "        λ = transpose(x)*A*x\n",
    "        errors[k] = get_err(A, x)\n",
    "    end\n",
    "    \n",
    "    return (x, errors)\n",
    "end"
   ]
  },
  {
   "cell_type": "code",
   "execution_count": 10,
   "metadata": {},
   "outputs": [
    {
     "data": {
      "text/plain": [
       "rayleigh_quotient_iteration (generic function with 2 methods)"
      ]
     },
     "execution_count": 10,
     "metadata": {},
     "output_type": "execute_result"
    }
   ],
   "source": [
    "function rayleigh_quotient_iteration(A::Array{Float64,2}, xin, num_iters, σ=0.99)\n",
    "    x = copy(xin)\n",
    "    \n",
    "    if norm(x) != 1\n",
    "        x = x./norm(x)\n",
    "    end\n",
    "\n",
    "    errors = zeros(num_iters)\n",
    "    λ = 0\n",
    "    n = size(A,1)\n",
    "    for k = 1:num_iters\n",
    "        if k > 2\n",
    "            σ = (transpose(x)*A*x)/(transpose(x)*x)\n",
    "        end\n",
    "        y = inv(A-(σ.*I(n)))*x\n",
    "        x = y/norm(y)\n",
    "        λ = transpose(x)*A*x\n",
    "        errors[k] = get_err(A, x)\n",
    "    end\n",
    "\n",
    "    return (x, errors)\n",
    "end"
   ]
  },
  {
   "cell_type": "code",
   "execution_count": 11,
   "metadata": {},
   "outputs": [],
   "source": [
    "x_pi, errors_pi = power_iteration(A, x, 10);\n",
    "x_sipi, errors_sipi = shift_invert_power_iteration(A, x, 10);\n",
    "x_rqi, errors_rqi = rayleigh_quotient_iteration(A, x, 10);"
   ]
  },
  {
   "cell_type": "code",
   "execution_count": 12,
   "metadata": {},
   "outputs": [],
   "source": [
    "Plots.plot(log10.(errors_pi), label=\"e(k+1)\")\n",
    "Plots.title!(\"Power Iteration: Error vs. Iteration\")\n",
    "Plots.xlabel!(\"k\")\n",
    "Plots.ylabel!(\"log e(k+1)\")\n",
    "Plots.savefig(\"figures/2_9_PI_err_it.png\")"
   ]
  },
  {
   "cell_type": "code",
   "execution_count": 16,
   "metadata": {},
   "outputs": [],
   "source": [
    "Plots.plot(log10.(errors_sipi), label=\"e(k+1)\")\n",
    "Plots.title!(\"Shift-Invert Power Iteration: Error vs. Iteration\")\n",
    "Plots.xlabel!(\"k\")\n",
    "Plots.ylabel!(\"e(k+1)\")\n",
    "Plots.savefig(\"figures/2_9_SIPI_err_it.png\")"
   ]
  },
  {
   "cell_type": "code",
   "execution_count": 14,
   "metadata": {},
   "outputs": [],
   "source": [
    "Plots.plot(log10.(errors_rqi), label=\"e(k+1)\")\n",
    "Plots.title!(\"Rayleigh Quotient Iteration: Error vs. Iteration\")\n",
    "Plots.xlabel!(\"k\")\n",
    "Plots.ylabel!(\"log e(k+1)\")\n",
    "Plots.savefig(\"figures/2_9_RQI_err_it.png\")"
   ]
  },
  {
   "cell_type": "code",
   "execution_count": null,
   "metadata": {},
   "outputs": [],
   "source": []
  },
  {
   "cell_type": "code",
   "execution_count": 230,
   "metadata": {},
   "outputs": [],
   "source": [
    "# Using the text file, we report the most 'important' pages\n",
    "namefile = open(\"PS02_dataSet/pagerank_urls.txt\");\n",
    "noms = readlines(namefile);"
   ]
  },
  {
   "cell_type": "code",
   "execution_count": 250,
   "metadata": {},
   "outputs": [
    {
     "data": {
      "text/plain": [
       "get_bottom_n (generic function with 2 methods)"
      ]
     },
     "execution_count": 250,
     "metadata": {},
     "output_type": "execute_result"
    }
   ],
   "source": [
    "function get_top_n(x, n, absolute=false)\n",
    "    x_cpy = copy(x)\n",
    "    \n",
    "    if absolute\n",
    "        x_cpy = abs.(x_cpy)\n",
    "    end\n",
    "    \n",
    "    indexes = zeros(Int16, n)\n",
    "    \n",
    "    for i = 1:n\n",
    "        mxval, mxindx = findmax(x_cpy)\n",
    "        idx = mxindx[1]\n",
    "        indexes[i] = convert(Int16, idx)\n",
    "        \n",
    "        x_cpy[idx] = 0\n",
    "    end\n",
    "    \n",
    "    indexes\n",
    "end\n",
    "function get_bottom_n(x, n, absolute=false)\n",
    "    x_cpy = copy(x)\n",
    "    \n",
    "    if absolute\n",
    "        x_cpy = abs.(x_cpy)\n",
    "    end\n",
    "    \n",
    "    indexes = zeros(Int16, n)\n",
    "    \n",
    "    for i = 1:n\n",
    "        mxval, mxindx = findmin(x_cpy)\n",
    "        idx = mxindx[1]\n",
    "        indexes[i] = convert(Int16, idx)\n",
    "        \n",
    "        x_cpy[idx] = 1\n",
    "    end\n",
    "    \n",
    "    indexes\n",
    "end"
   ]
  },
  {
   "cell_type": "code",
   "execution_count": 251,
   "metadata": {},
   "outputs": [
    {
     "name": "stdout",
     "output_type": "stream",
     "text": [
      "For Power Iteration\n",
      "Top 1 Page: http://www.hollins.edu/ at index 2 with score 0.4393669395950616\n",
      "Top 2 Page: http://www.hollins.edu/admissions/visit/visit.htm at index 35 with score 0.3295553218972332\n",
      "Top 3 Page: http://www.hollins.edu/about/about_tour.htm at index 36 with score 0.3072679100390794\n",
      "Top 4 Page: http://www.hollins.edu/htdig/index.html at index 58 with score 0.29959997614868467\n",
      "Top 5 Page: http://www.hollins.edu/admissions/info-request/info-request.cfm at index 49 with score 0.27509160711857744\n",
      "--\n",
      "Bottom 1 Page: http://www1.hollins.edu/ at index 1 with score 0.0\n",
      "Bottom 2 Page: http://www1.hollins.edu/Docs/Forms/GetForms.htm at index 3 with score 0.0\n",
      "Bottom 3 Page: http://www1.hollins.edu/Docs/misc/travel.htm at index 4 with score 0.0\n",
      "Bottom 4 Page: http://www1.hollins.edu/Docs/GVCalendar/gvmain.htm at index 5 with score 0.0\n",
      "Bottom 5 Page: http://www1.hollins.edu/Docs/comptech/comptech.htm at index 10 with score 0.0\n"
     ]
    }
   ],
   "source": [
    "idxs = get_top_n(x_pi, 5)\n",
    "println(\"For Power Iteration\")\n",
    "for i = 1:5\n",
    "    println(\"Top \",i,\" Page: \",noms[idxs[i]],\" at index \",idxs[i],\" with score \",x_pi[idxs[i]])\n",
    "end\n",
    "println(\"--\")\n",
    "idxs = get_bottom_n(x_pi, 5)\n",
    "for i = 1:5\n",
    "    println(\"Bottom \",i,\" Page: \",noms[idxs[i]],\" at index \",idxs[i],\" with score \",x_pi[idxs[i]])\n",
    "end"
   ]
  },
  {
   "cell_type": "code",
   "execution_count": 252,
   "metadata": {},
   "outputs": [
    {
     "name": "stdout",
     "output_type": "stream",
     "text": [
      "For Shift-Invert Power Iteration (Not Taking Absolute Values)\n",
      "Top 1 Page: http://www.hollins.edu/ at index 2 with score 0.371076800177363\n",
      "Top 2 Page: http://www.hollins.edu/admissions/visit/visit.htm at index 35 with score 0.3184300571822739\n",
      "Top 3 Page: http://www.hollins.edu/about/about_tour.htm at index 36 with score 0.2974898527981775\n",
      "Top 4 Page: http://www.hollins.edu/htdig/index.html at index 58 with score 0.2903683424743939\n",
      "Top 5 Page: http://www.hollins.edu/admissions/info-request/info-request.cfm at index 49 with score 0.26374804470798907\n",
      "--\n",
      "Bottom 1 Page: http://www1.hollins.edu/homepages/hammerpw/qrhomepage.htm at index 424 with score -0.3196296934984905\n",
      "Bottom 2 Page: http://www1.hollins.edu/homepages/hammerpw/qrcourses2.htm at index 987 with score -0.16021771066678325\n",
      "Bottom 3 Page: http://www1.hollins.edu/homepages/hammerpw/qrcourses.htm at index 986 with score -0.16019371004811028\n",
      "Bottom 4 Page: http://www1.hollins.edu/homepages/hammerpw/qractivities.htm at index 985 with score -0.12001867295527838\n",
      "Bottom 5 Page: http://www1.hollins.edu/homepages/godardrd/homepage.htm at index 930 with score -0.09168793383643452\n",
      "\n",
      "\n",
      "\n",
      "For Shift-Invert Power Iteration (Absolute Values)\n",
      "Top 1 Page: http://www.hollins.edu/ at index 2 with score 0.371076800177363\n",
      "Top 2 Page: http://www1.hollins.edu/homepages/hammerpw/qrhomepage.htm at index 424 with score -0.3196296934984905\n",
      "Top 3 Page: http://www.hollins.edu/admissions/visit/visit.htm at index 35 with score 0.3184300571822739\n",
      "Top 4 Page: http://www.hollins.edu/about/about_tour.htm at index 36 with score 0.2974898527981775\n",
      "Top 5 Page: http://www.hollins.edu/htdig/index.html at index 58 with score 0.2903683424743939\n",
      "--\n",
      "Bottom 1 Page: http://www1.hollins.edu/homepages/hammerpw/qrhomepage.htm at index 424 with score -0.3196296934984905\n",
      "Bottom 2 Page: http://www1.hollins.edu/homepages/hammerpw/qrcourses2.htm at index 987 with score -0.16021771066678325\n",
      "Bottom 3 Page: http://www1.hollins.edu/homepages/hammerpw/qrcourses.htm at index 986 with score -0.16019371004811028\n",
      "Bottom 4 Page: http://www1.hollins.edu/homepages/hammerpw/qractivities.htm at index 985 with score -0.12001867295527838\n",
      "Bottom 5 Page: http://www1.hollins.edu/homepages/godardrd/homepage.htm at index 930 with score -0.09168793383643452\n"
     ]
    }
   ],
   "source": [
    "idxs = get_top_n(x_sipi, 5)\n",
    "println(\"For Shift-Invert Power Iteration (Not Taking Absolute Values)\")\n",
    "for i = 1:5\n",
    "    println(\"Top \",i,\" Page: \",noms[idxs[i]],\" at index \",idxs[i],\" with score \",x_sipi[idxs[i]])\n",
    "end\n",
    "println(\"--\")\n",
    "idxs = get_bottom_n(x_sipi, 5)\n",
    "for i = 1:5\n",
    "    println(\"Bottom \",i,\" Page: \",noms[idxs[i]],\" at index \",idxs[i],\" with score \",x_sipi[idxs[i]])\n",
    "end\n",
    "\n",
    "idxs = get_top_n(x_sipi, 5, true)\n",
    "println(\"\\n\\n\\nFor Shift-Invert Power Iteration (Absolute Values)\")\n",
    "for i = 1:5\n",
    "    println(\"Top \",i,\" Page: \",noms[idxs[i]],\" at index \",idxs[i],\" with score \",x_sipi[idxs[i]])\n",
    "end\n",
    "println(\"--\")\n",
    "idxs = get_bottom_n(x_sipi, 5)\n",
    "for i = 1:5\n",
    "    println(\"Bottom \",i,\" Page: \",noms[idxs[i]],\" at index \",idxs[i],\" with score \",x_sipi[idxs[i]])\n",
    "end"
   ]
  },
  {
   "cell_type": "code",
   "execution_count": 253,
   "metadata": {},
   "outputs": [
    {
     "name": "stdout",
     "output_type": "stream",
     "text": [
      "For Rayleigh Quotient Iteration\n",
      "Top 1 Page: http://www1.hollins.edu/homepages/hammerpw/qrhomepage.htm at index 424 with score 0.663327738197711\n",
      "Top 2 Page: http://www1.hollins.edu/homepages/hammerpw/qrcourses.htm at index 986 with score 0.33166386909885553\n",
      "Top 3 Page: http://www1.hollins.edu/homepages/hammerpw/qrcourses2.htm at index 987 with score 0.3316638690988555\n",
      "Top 4 Page: http://www1.hollins.edu/homepages/hammerpw/qractivities.htm at index 985 with score 0.24874790182414167\n",
      "Top 5 Page: http://www1.hollins.edu/homepages/hammerpw/qrgrantsummary.htm at index 984 with score 0.16583193454942774\n",
      "--\n",
      "Bottom 1 Page: http://www1.hollins.edu/ at index 1 with score 3.713492277236943e-74\n",
      "Bottom 2 Page: http://www.hollins.edu/academics/library/libtoc.htm at index 48 with score 3.713492277236943e-74\n",
      "Bottom 3 Page: http://www1.hollins.edu/Docs/GVCalendar/gvmain.htm at index 5 with score 5.404751202091903e-74\n",
      "Bottom 4 Page: http://www1.hollins.edu/Docs/Forms/GetForms.htm at index 3 with score 5.4047512020919126e-74\n",
      "Bottom 5 Page: http://www1.hollins.edu/Docs/misc/travel.htm at index 4 with score 5.4047512020919126e-74\n"
     ]
    }
   ],
   "source": [
    "idxs = get_top_n(x_rqi, 5)\n",
    "println(\"For Rayleigh Quotient Iteration\")\n",
    "for i = 1:5\n",
    "    println(\"Top \",i,\" Page: \",noms[idxs[i]],\" at index \",idxs[i],\" with score \", x_rqi[idxs[i]])\n",
    "end\n",
    "println(\"--\")\n",
    "idxs = get_bottom_n(x_rqi, 5)\n",
    "for i = 1:5\n",
    "    println(\"Bottom \",i,\" Page: \",noms[idxs[i]],\" at index \",idxs[i],\" with score \", x_rqi[idxs[i]])\n",
    "end"
   ]
  },
  {
   "cell_type": "code",
   "execution_count": 254,
   "metadata": {},
   "outputs": [
    {
     "data": {
      "text/plain": [
       "0.11297845011565136"
      ]
     },
     "execution_count": 254,
     "metadata": {},
     "output_type": "execute_result"
    }
   ],
   "source": [
    "get_err(A, x_pi)"
   ]
  },
  {
   "cell_type": "code",
   "execution_count": 245,
   "metadata": {},
   "outputs": [
    {
     "data": {
      "text/plain": [
       "0.000783822615251815"
      ]
     },
     "execution_count": 245,
     "metadata": {},
     "output_type": "execute_result"
    }
   ],
   "source": [
    "get_err(A, x_sipi)"
   ]
  },
  {
   "cell_type": "code",
   "execution_count": 246,
   "metadata": {},
   "outputs": [
    {
     "data": {
      "text/plain": [
       "1.6786171296150374e-16"
      ]
     },
     "execution_count": 246,
     "metadata": {},
     "output_type": "execute_result"
    }
   ],
   "source": [
    "get_err(A, x_rqi)"
   ]
  },
  {
   "cell_type": "code",
   "execution_count": 18,
   "metadata": {},
   "outputs": [],
   "source": [
    "Plots.plot(x_pi, label=\"Power Iteration\")\n",
    "Plots.plot!(x_sipi, label=\"Shift-Inverte Power Method\")\n",
    "Plots.plot!(x_rqi, label=\"Rayleigh\")\n",
    "Plots.savefig(\"guhguh\")"
   ]
  },
  {
   "cell_type": "code",
   "execution_count": 238,
   "metadata": {},
   "outputs": [
    {
     "data": {
      "text/plain": [
       "0.0"
      ]
     },
     "execution_count": 238,
     "metadata": {},
     "output_type": "execute_result"
    }
   ],
   "source": [
    "det([1 1; 1 1])"
   ]
  },
  {
   "cell_type": "code",
   "execution_count": null,
   "metadata": {},
   "outputs": [],
   "source": []
  },
  {
   "cell_type": "code",
   "execution_count": null,
   "metadata": {},
   "outputs": [],
   "source": []
  }
 ],
 "metadata": {
  "kernelspec": {
   "display_name": "Julia 1.5.1",
   "language": "julia",
   "name": "julia-1.5"
  },
  "language_info": {
   "file_extension": ".jl",
   "mimetype": "application/julia",
   "name": "julia",
   "version": "1.5.1"
  }
 },
 "nbformat": 4,
 "nbformat_minor": 4
}
