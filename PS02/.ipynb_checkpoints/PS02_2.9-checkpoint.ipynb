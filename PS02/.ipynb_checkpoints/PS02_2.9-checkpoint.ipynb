{
 "cells": [
  {
   "cell_type": "markdown",
   "metadata": {},
   "source": [
    "# ECE367: PS02 Part 2 -- PageRank\n",
    "\n",
    "## Framing\n",
    "\n",
    "$N$ is the number of URL's. $J$ is the adjacency matrix.\n",
    "\n",
    "### Power Iteration Method\n",
    "\n",
    "* Method for calculating eigenvalues/vectors for diagonalizable matrix. \n",
    "* \n",
    "\n",
    "## Steps\n",
    "\n",
    "- [ ] Load the pagerank data from `pagerank_urls.txt`, `pagerank_adj.mat`.\n",
    "- [ ] Based on adjacency matrix $J$ calculate $$A_{i, j} = \\frac{J_{i, j}}{\\sum_{k=1}^{N}J_{k,j}}$$\n",
    "    - [ ] Verify that the rows add to 1.\n",
    "- [ ] Implement the **power iteration method** (OptM 7.1.1) for 10 iterations.\n",
    "    - [ ] Calculate $e(k+1) = ||Ax(k+1) - x(k+1)||_2$\n",
    "    - [ ] Plot $\\log(e(k+1))$ vs. k\n",
    "- [ ] Implement **shift-invert power iteration** and **Rayleigh quotient iteration** algorithms (OptM 7.1.2, 7.1.3). \n",
    "    - [ ] For shift-invert: $\\sigma = 0.99$.\n",
    "    - [ ] For Rayleigh quotient: $\\sigma_1 = \\sigma_2 = 0.99$ for first two iterations.\n",
    "        - [ ] $\\sigma_k = \\frac{x^*(k) Ax(k)}{x^*(k)x(k)}$ for k > 2.\n",
    "    - [ ] Plot $\\log(e(k+1))$ vs. k for each plot.\n",
    "- [ ] List the (page index, PageRank score) tuples for **top 5** and **bottom 5** pages according to PageRank scores."
   ]
  },
  {
   "cell_type": "code",
   "execution_count": 5,
   "metadata": {},
   "outputs": [
    {
     "name": "stderr",
     "output_type": "stream",
     "text": [
      "┌ Info: Precompiling MAT [23992714-dd62-5051-b70f-ba57cb901cac]\n",
      "└ @ Base loading.jl:1278\n"
     ]
    },
    {
     "data": {
      "text/plain": [
       "Plots.PlotlyBackend()"
      ]
     },
     "execution_count": 5,
     "metadata": {},
     "output_type": "execute_result"
    }
   ],
   "source": [
    "# IMPORT BOX #\n",
    "# IMPORT BOX #\n",
    "using Plots\n",
    "using Plotly\n",
    "using GR\n",
    "using SymPy\n",
    "using MAT\n",
    "\n",
    "plotly()"
   ]
  },
  {
   "cell_type": "code",
   "execution_count": 18,
   "metadata": {},
   "outputs": [
    {
     "data": {
      "text/plain": [
       "Array{Float64,2}"
      ]
     },
     "execution_count": 18,
     "metadata": {},
     "output_type": "execute_result"
    }
   ],
   "source": [
    "file_J = matopen(\"PS02_dataSet/pagerank_adj.mat\")\n",
    "J = read(file_J)[\"J\"];\n",
    "typeof(J)"
   ]
  },
  {
   "cell_type": "code",
   "execution_count": 19,
   "metadata": {},
   "outputs": [
    {
     "data": {
      "text/plain": [
       "normalize_J (generic function with 1 method)"
      ]
     },
     "execution_count": 19,
     "metadata": {},
     "output_type": "execute_result"
    }
   ],
   "source": [
    "function normalize_J(J::Array{Float64,2})\n",
    "    println(\"Hello, world?\")\n",
    "end"
   ]
  },
  {
   "cell_type": "code",
   "execution_count": 23,
   "metadata": {},
   "outputs": [
    {
     "name": "stdout",
     "output_type": "stream",
     "text": [
      "Hello, world?\n"
     ]
    }
   ],
   "source": [
    "A = normalize_J(J)"
   ]
  },
  {
   "cell_type": "code",
   "execution_count": null,
   "metadata": {},
   "outputs": [],
   "source": []
  }
 ],
 "metadata": {
  "kernelspec": {
   "display_name": "Julia 1.5.1",
   "language": "julia",
   "name": "julia-1.5"
  },
  "language_info": {
   "file_extension": ".jl",
   "mimetype": "application/julia",
   "name": "julia",
   "version": "1.5.1"
  }
 },
 "nbformat": 4,
 "nbformat_minor": 4
}
