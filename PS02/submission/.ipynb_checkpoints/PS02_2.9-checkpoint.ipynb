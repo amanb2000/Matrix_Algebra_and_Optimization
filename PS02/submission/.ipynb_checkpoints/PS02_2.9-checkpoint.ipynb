{
 "cells": [
  {
   "cell_type": "markdown",
   "metadata": {},
   "source": [
    "# ECE367: PS02 Part 2 -- PageRank\n",
    "\n",
    "## Framing\n",
    "\n",
    "$N$ is the number of URL's. $J$ is the adjacency matrix.\n",
    "\n",
    "### Power Iteration Method\n",
    "\n",
    "* Method for calculating eigenvalues/vectors for diagonalizable matrix. \n",
    "* \n",
    "\n",
    "## Steps\n",
    "\n",
    "- [x] Load the pagerank data from `pagerank_urls.txt`, `pagerank_adj.mat`.\n",
    "- [x] Based on adjacency matrix $J$ calculate $$A_{i, j} = \\frac{J_{i, j}}{\\sum_{k=1}^{N}J_{k,j}}$$\n",
    "    - [x] Verify that the rows add to 1.\n",
    "- [x] Implement the **power iteration method** (OptM 7.1.1) for 10 iterations.\n",
    "    - [x] Calculate $e(k+1) = ||Ax(k+1) - x(k+1)||_2$\n",
    "    - [x] Plot $\\log(e(k+1))$ vs. k\n",
    "- [ ] Implement **shift-invert power iteration** and **Rayleigh quotient iteration** algorithms (OptM 7.1.2, 7.1.3). \n",
    "    - [ ] For shift-invert: $\\sigma = 0.99$.\n",
    "    - [ ] For Rayleigh quotient: $\\sigma_1 = \\sigma_2 = 0.99$ for first two iterations.\n",
    "        - [ ] $\\sigma_k = \\frac{x^*(k) Ax(k)}{x^*(k)x(k)}$ for k > 2.\n",
    "    - [ ] Plot $\\log(e(k+1))$ vs. k for each plot.\n",
    "- [ ] List the (page index, PageRank score) tuples for **top 5** and **bottom 5** pages according to PageRank scores."
   ]
  },
  {
   "cell_type": "code",
   "execution_count": 2,
   "metadata": {},
   "outputs": [
    {
     "data": {
      "text/plain": [
       "Plots.PlotlyBackend()"
      ]
     },
     "execution_count": 2,
     "metadata": {},
     "output_type": "execute_result"
    }
   ],
   "source": [
    "# IMPORT BOX #\n",
    "# IMPORT BOX #\n",
    "using Plots\n",
    "using Plotly\n",
    "using GR\n",
    "using SymPy\n",
    "using MAT\n",
    "using LinearAlgebra\n",
    "\n",
    "plotly()"
   ]
  },
  {
   "cell_type": "code",
   "execution_count": 3,
   "metadata": {},
   "outputs": [
    {
     "ename": "LoadError",
     "evalue": "File \"PS02_dataSet/pagerank_adj.mat\" does not exist and create was not specified",
     "output_type": "error",
     "traceback": [
      "File \"PS02_dataSet/pagerank_adj.mat\" does not exist and create was not specified",
      "",
      "Stacktrace:",
      " [1] error(::String) at ./error.jl:33",
      " [2] matopen(::String, ::Bool, ::Bool, ::Bool, ::Bool, ::Bool, ::Bool) at /Users/abhargava/.julia/packages/MAT/5SDtD/src/MAT.jl:44",
      " [3] matopen(::String, ::String; compress::Bool) at /Users/abhargava/.julia/packages/MAT/5SDtD/src/MAT.jl:88",
      " [4] matopen at /Users/abhargava/.julia/packages/MAT/5SDtD/src/MAT.jl:88 [inlined]",
      " [5] #matopen#2 at /Users/abhargava/.julia/packages/MAT/5SDtD/src/MAT.jl:97 [inlined]",
      " [6] matopen(::String) at /Users/abhargava/.julia/packages/MAT/5SDtD/src/MAT.jl:97",
      " [7] top-level scope at In[3]:1",
      " [8] include_string(::Function, ::Module, ::String, ::String) at ./loading.jl:1091",
      " [9] execute_code(::String, ::String) at /Users/abhargava/.julia/packages/IJulia/rWZ9e/src/execute_request.jl:27",
      " [10] execute_request(::ZMQ.Socket, ::IJulia.Msg) at /Users/abhargava/.julia/packages/IJulia/rWZ9e/src/execute_request.jl:86",
      " [11] #invokelatest#1 at ./essentials.jl:710 [inlined]",
      " [12] invokelatest at ./essentials.jl:709 [inlined]",
      " [13] eventloop(::ZMQ.Socket) at /Users/abhargava/.julia/packages/IJulia/rWZ9e/src/eventloop.jl:8",
      " [14] (::IJulia.var\"#15#18\")() at ./task.jl:356"
     ]
    }
   ],
   "source": [
    "file_J = matopen(\"PS02_dataSet/pagerank_adj.mat\")\n",
    "J = read(file_J)[\"J\"];\n",
    "typeof(J)"
   ]
  },
  {
   "cell_type": "code",
   "execution_count": 4,
   "metadata": {},
   "outputs": [
    {
     "data": {
      "text/plain": [
       "normalize_J (generic function with 1 method)"
      ]
     },
     "execution_count": 4,
     "metadata": {},
     "output_type": "execute_result"
    }
   ],
   "source": [
    "# Normalization function for J\n",
    "function normalize_J(J::Array{Float64,2})\n",
    "    A = zeros(size(J))\n",
    "    \n",
    "    for i = 1:size(J,1)\n",
    "        if(sum(J[:,i]) == 0)\n",
    "            println(\"Sum of row \",i,\" equals 0...\")\n",
    "        else\n",
    "            A[:,i] = J[:,i]/sum(J[:,i])\n",
    "        end\n",
    "        \n",
    "    end\n",
    "    A\n",
    "end"
   ]
  },
  {
   "cell_type": "code",
   "execution_count": 5,
   "metadata": {},
   "outputs": [
    {
     "ename": "LoadError",
     "evalue": "UndefVarError: J not defined",
     "output_type": "error",
     "traceback": [
      "UndefVarError: J not defined",
      "",
      "Stacktrace:",
      " [1] top-level scope at In[5]:1",
      " [2] include_string(::Function, ::Module, ::String, ::String) at ./loading.jl:1091",
      " [3] execute_code(::String, ::String) at /Users/abhargava/.julia/packages/IJulia/rWZ9e/src/execute_request.jl:27",
      " [4] execute_request(::ZMQ.Socket, ::IJulia.Msg) at /Users/abhargava/.julia/packages/IJulia/rWZ9e/src/execute_request.jl:86",
      " [5] #invokelatest#1 at ./essentials.jl:710 [inlined]",
      " [6] invokelatest at ./essentials.jl:709 [inlined]",
      " [7] eventloop(::ZMQ.Socket) at /Users/abhargava/.julia/packages/IJulia/rWZ9e/src/eventloop.jl:8",
      " [8] (::IJulia.var\"#15#18\")() at ./task.jl:356"
     ]
    }
   ],
   "source": [
    "A = normalize_J(J);\n",
    "x = sum(A, dims=1);"
   ]
  },
  {
   "cell_type": "code",
   "execution_count": 6,
   "metadata": {},
   "outputs": [
    {
     "ename": "LoadError",
     "evalue": "UndefVarError: x not defined",
     "output_type": "error",
     "traceback": [
      "UndefVarError: x not defined",
      "",
      "Stacktrace:",
      " [1] top-level scope at ./In[6]:3",
      " [2] include_string(::Function, ::Module, ::String, ::String) at ./loading.jl:1091",
      " [3] execute_code(::String, ::String) at /Users/abhargava/.julia/packages/IJulia/rWZ9e/src/execute_request.jl:27",
      " [4] execute_request(::ZMQ.Socket, ::IJulia.Msg) at /Users/abhargava/.julia/packages/IJulia/rWZ9e/src/execute_request.jl:86",
      " [5] #invokelatest#1 at ./essentials.jl:710 [inlined]",
      " [6] invokelatest at ./essentials.jl:709 [inlined]",
      " [7] eventloop(::ZMQ.Socket) at /Users/abhargava/.julia/packages/IJulia/rWZ9e/src/eventloop.jl:8",
      " [8] (::IJulia.var\"#15#18\")() at ./task.jl:356"
     ]
    }
   ],
   "source": [
    "good_sum = true\n",
    "\n",
    "for i = 1:size(x,1)\n",
    "    if abs(x[i] - 1) > 0.00001\n",
    "        good_sum = false\n",
    "        println(\"incorrect sum at \",i,\" -- x[i] = \",x[i])\n",
    "    end\n",
    "end\n",
    "\n",
    "if good_sum\n",
    "    println(\"Sum of A's columns are all 1. Checks out\")\n",
    "else\n",
    "    println(\"Sum of A's columns are not all 1.\")\n",
    "end\n",
    "\n",
    "x = transpose(x); # Turning x into a column vector"
   ]
  },
  {
   "cell_type": "code",
   "execution_count": 7,
   "metadata": {},
   "outputs": [
    {
     "data": {
      "text/plain": [
       "get_err (generic function with 1 method)"
      ]
     },
     "execution_count": 7,
     "metadata": {},
     "output_type": "execute_result"
    }
   ],
   "source": [
    "function get_err(A::Array{Float64,2}, x)\n",
    "    norm(A*x - x)\n",
    "end"
   ]
  },
  {
   "cell_type": "code",
   "execution_count": 8,
   "metadata": {},
   "outputs": [
    {
     "data": {
      "text/plain": [
       "power_iteration (generic function with 1 method)"
      ]
     },
     "execution_count": 8,
     "metadata": {},
     "output_type": "execute_result"
    }
   ],
   "source": [
    "function power_iteration(A::Array{Float64,2}, xin, num_iters)\n",
    "    x = copy(xin)\n",
    "    if norm(x) != 1\n",
    "        x = x./norm(x)\n",
    "    end\n",
    "    \n",
    "    errors = zeros(num_iters)\n",
    "    \n",
    "    λ = 0   \n",
    "    for k = 1:num_iters\n",
    "        y = A*x\n",
    "        x = y/norm(y)\n",
    "        λ = transpose(x)*A*x\n",
    "        errors[k] = get_err(A, x)\n",
    "    end\n",
    "    \n",
    "    return (x, errors)\n",
    "end"
   ]
  },
  {
   "cell_type": "code",
   "execution_count": 9,
   "metadata": {},
   "outputs": [
    {
     "data": {
      "text/plain": [
       "shift_invert_power_iteration (generic function with 2 methods)"
      ]
     },
     "execution_count": 9,
     "metadata": {},
     "output_type": "execute_result"
    }
   ],
   "source": [
    "function shift_invert_power_iteration(A::Array{Float64,2}, xin, num_iters, σ=0.99)\n",
    "    x = copy(xin)\n",
    "    if norm(x) != 1\n",
    "        x = x./norm(x)\n",
    "    end\n",
    "    \n",
    "    errors = zeros(num_iters)\n",
    "    \n",
    "    λ = 0   \n",
    "    n = size(A,1)\n",
    "    for k = 1:num_iters\n",
    "        y = inv(A-(σ.*I(n)))*x\n",
    "        x = y/norm(y)\n",
    "        λ = transpose(x)*A*x\n",
    "        errors[k] = get_err(A, x)\n",
    "    end\n",
    "    \n",
    "    return (x, errors)\n",
    "end"
   ]
  },
  {
   "cell_type": "code",
   "execution_count": 10,
   "metadata": {},
   "outputs": [
    {
     "data": {
      "text/plain": [
       "rayleigh_quotient_iteration (generic function with 2 methods)"
      ]
     },
     "execution_count": 10,
     "metadata": {},
     "output_type": "execute_result"
    }
   ],
   "source": [
    "function rayleigh_quotient_iteration(A::Array{Float64,2}, xin, num_iters, σ=0.99)\n",
    "    x = copy(xin)\n",
    "    \n",
    "    if norm(x) != 1\n",
    "        x = x./norm(x)\n",
    "    end\n",
    "\n",
    "    errors = zeros(num_iters)\n",
    "    λ = 0\n",
    "    n = size(A,1)\n",
    "    for k = 1:num_iters\n",
    "        if k > 2\n",
    "            σ = (transpose(x)*A*x)/(transpose(x)*x)\n",
    "        end\n",
    "        y = inv(A-(σ.*I(n)))*x\n",
    "        x = y/norm(y)\n",
    "        λ = transpose(x)*A*x\n",
    "        errors[k] = get_err(A, x)\n",
    "    end\n",
    "\n",
    "    return (x, errors)\n",
    "end"
   ]
  },
  {
   "cell_type": "code",
   "execution_count": 11,
   "metadata": {},
   "outputs": [
    {
     "ename": "LoadError",
     "evalue": "UndefVarError: A not defined",
     "output_type": "error",
     "traceback": [
      "UndefVarError: A not defined",
      "",
      "Stacktrace:",
      " [1] top-level scope at In[11]:1",
      " [2] include_string(::Function, ::Module, ::String, ::String) at ./loading.jl:1091",
      " [3] execute_code(::String, ::String) at /Users/abhargava/.julia/packages/IJulia/rWZ9e/src/execute_request.jl:27",
      " [4] execute_request(::ZMQ.Socket, ::IJulia.Msg) at /Users/abhargava/.julia/packages/IJulia/rWZ9e/src/execute_request.jl:86",
      " [5] #invokelatest#1 at ./essentials.jl:710 [inlined]",
      " [6] invokelatest at ./essentials.jl:709 [inlined]",
      " [7] eventloop(::ZMQ.Socket) at /Users/abhargava/.julia/packages/IJulia/rWZ9e/src/eventloop.jl:8",
      " [8] (::IJulia.var\"#15#18\")() at ./task.jl:356"
     ]
    }
   ],
   "source": [
    "x_pi, errors_pi = power_iteration(A, x, 10);\n",
    "x_sipi, errors_sipi = shift_invert_power_iteration(A, x, 10);\n",
    "x_rqi, errors_rqi = rayleigh_quotient_iteration(A, x, 10);"
   ]
  },
  {
   "cell_type": "code",
   "execution_count": 12,
   "metadata": {},
   "outputs": [
    {
     "ename": "LoadError",
     "evalue": "UndefVarError: errors_pi not defined",
     "output_type": "error",
     "traceback": [
      "UndefVarError: errors_pi not defined",
      "",
      "Stacktrace:",
      " [1] top-level scope at In[12]:1",
      " [2] include_string(::Function, ::Module, ::String, ::String) at ./loading.jl:1091",
      " [3] execute_code(::String, ::String) at /Users/abhargava/.julia/packages/IJulia/rWZ9e/src/execute_request.jl:27",
      " [4] execute_request(::ZMQ.Socket, ::IJulia.Msg) at /Users/abhargava/.julia/packages/IJulia/rWZ9e/src/execute_request.jl:86",
      " [5] #invokelatest#1 at ./essentials.jl:710 [inlined]",
      " [6] invokelatest at ./essentials.jl:709 [inlined]",
      " [7] eventloop(::ZMQ.Socket) at /Users/abhargava/.julia/packages/IJulia/rWZ9e/src/eventloop.jl:8",
      " [8] (::IJulia.var\"#15#18\")() at ./task.jl:356"
     ]
    }
   ],
   "source": [
    "Plots.plot(log10.(errors_pi), label=\"e(k+1)\")\n",
    "Plots.title!(\"Power Iteration: Error vs. Iteration\")\n",
    "Plots.xlabel!(\"k\")\n",
    "Plots.ylabel!(\"log e(k+1)\")\n",
    "Plots.savefig(\"figures/2_9_PI_err_it.png\")"
   ]
  },
  {
   "cell_type": "code",
   "execution_count": 13,
   "metadata": {},
   "outputs": [
    {
     "ename": "LoadError",
     "evalue": "UndefVarError: errors_sipi not defined",
     "output_type": "error",
     "traceback": [
      "UndefVarError: errors_sipi not defined",
      "",
      "Stacktrace:",
      " [1] top-level scope at In[13]:1",
      " [2] include_string(::Function, ::Module, ::String, ::String) at ./loading.jl:1091",
      " [3] execute_code(::String, ::String) at /Users/abhargava/.julia/packages/IJulia/rWZ9e/src/execute_request.jl:27",
      " [4] execute_request(::ZMQ.Socket, ::IJulia.Msg) at /Users/abhargava/.julia/packages/IJulia/rWZ9e/src/execute_request.jl:86",
      " [5] #invokelatest#1 at ./essentials.jl:710 [inlined]",
      " [6] invokelatest at ./essentials.jl:709 [inlined]",
      " [7] eventloop(::ZMQ.Socket) at /Users/abhargava/.julia/packages/IJulia/rWZ9e/src/eventloop.jl:8",
      " [8] (::IJulia.var\"#15#18\")() at ./task.jl:356"
     ]
    }
   ],
   "source": [
    "Plots.plot(log10.(errors_sipi), label=\"e(k+1)\")\n",
    "Plots.title!(\"Shift-Invert Power Iteration: Error vs. Iteration\")\n",
    "Plots.xlabel!(\"k\")\n",
    "Plots.ylabel!(\"e(k+1)\")\n",
    "Plots.savefig(\"figures/2_9_SIPI_err_it.png\")"
   ]
  },
  {
   "cell_type": "code",
   "execution_count": 14,
   "metadata": {},
   "outputs": [
    {
     "ename": "LoadError",
     "evalue": "UndefVarError: errors_rqi not defined",
     "output_type": "error",
     "traceback": [
      "UndefVarError: errors_rqi not defined",
      "",
      "Stacktrace:",
      " [1] top-level scope at In[14]:1",
      " [2] include_string(::Function, ::Module, ::String, ::String) at ./loading.jl:1091",
      " [3] execute_code(::String, ::String) at /Users/abhargava/.julia/packages/IJulia/rWZ9e/src/execute_request.jl:27",
      " [4] execute_request(::ZMQ.Socket, ::IJulia.Msg) at /Users/abhargava/.julia/packages/IJulia/rWZ9e/src/execute_request.jl:86",
      " [5] #invokelatest#1 at ./essentials.jl:710 [inlined]",
      " [6] invokelatest at ./essentials.jl:709 [inlined]",
      " [7] eventloop(::ZMQ.Socket) at /Users/abhargava/.julia/packages/IJulia/rWZ9e/src/eventloop.jl:8",
      " [8] (::IJulia.var\"#15#18\")() at ./task.jl:356"
     ]
    }
   ],
   "source": [
    "Plots.plot(log10.(errors_rqi), label=\"e(k+1)\")\n",
    "Plots.title!(\"Rayleigh Quotient Iteration: Error vs. Iteration\")\n",
    "Plots.xlabel!(\"k\")\n",
    "Plots.ylabel!(\"log e(k+1)\")\n",
    "Plots.savefig(\"figures/2_9_RQI_err_it.png\")"
   ]
  },
  {
   "cell_type": "code",
   "execution_count": null,
   "metadata": {},
   "outputs": [],
   "source": []
  },
  {
   "cell_type": "code",
   "execution_count": 15,
   "metadata": {},
   "outputs": [
    {
     "ename": "LoadError",
     "evalue": "SystemError: opening file \"PS02_dataSet/pagerank_urls.txt\": No such file or directory",
     "output_type": "error",
     "traceback": [
      "SystemError: opening file \"PS02_dataSet/pagerank_urls.txt\": No such file or directory",
      "",
      "Stacktrace:",
      " [1] systemerror(::String, ::Int32; extrainfo::Nothing) at ./error.jl:168",
      " [2] #systemerror#48 at ./error.jl:167 [inlined]",
      " [3] systemerror at ./error.jl:167 [inlined]",
      " [4] open(::String; lock::Bool, read::Nothing, write::Nothing, create::Nothing, truncate::Nothing, append::Nothing) at ./iostream.jl:284",
      " [5] open(::String) at ./iostream.jl:273",
      " [6] top-level scope at In[15]:2",
      " [7] include_string(::Function, ::Module, ::String, ::String) at ./loading.jl:1091",
      " [8] execute_code(::String, ::String) at /Users/abhargava/.julia/packages/IJulia/rWZ9e/src/execute_request.jl:27",
      " [9] execute_request(::ZMQ.Socket, ::IJulia.Msg) at /Users/abhargava/.julia/packages/IJulia/rWZ9e/src/execute_request.jl:86",
      " [10] #invokelatest#1 at ./essentials.jl:710 [inlined]",
      " [11] invokelatest at ./essentials.jl:709 [inlined]",
      " [12] eventloop(::ZMQ.Socket) at /Users/abhargava/.julia/packages/IJulia/rWZ9e/src/eventloop.jl:8",
      " [13] (::IJulia.var\"#15#18\")() at ./task.jl:356"
     ]
    }
   ],
   "source": [
    "# Using the text file, we report the most 'important' pages\n",
    "namefile = open(\"PS02_dataSet/pagerank_urls.txt\");\n",
    "noms = readlines(namefile);"
   ]
  },
  {
   "cell_type": "code",
   "execution_count": 16,
   "metadata": {},
   "outputs": [
    {
     "data": {
      "text/plain": [
       "get_bottom_n (generic function with 2 methods)"
      ]
     },
     "execution_count": 16,
     "metadata": {},
     "output_type": "execute_result"
    }
   ],
   "source": [
    "function get_top_n(x, n, absolute=false)\n",
    "    x_cpy = copy(x)\n",
    "    \n",
    "    if absolute\n",
    "        x_cpy = abs.(x_cpy)\n",
    "    end\n",
    "    \n",
    "    indexes = zeros(Int16, n)\n",
    "    \n",
    "    for i = 1:n\n",
    "        mxval, mxindx = findmax(x_cpy)\n",
    "        idx = mxindx[1]\n",
    "        indexes[i] = convert(Int16, idx)\n",
    "        \n",
    "        x_cpy[idx] = 0\n",
    "    end\n",
    "    \n",
    "    indexes\n",
    "end\n",
    "function get_bottom_n(x, n, absolute=false)\n",
    "    x_cpy = copy(x)\n",
    "    \n",
    "    if absolute\n",
    "        x_cpy = abs.(x_cpy)\n",
    "    end\n",
    "    \n",
    "    indexes = zeros(Int16, n)\n",
    "    \n",
    "    for i = 1:n\n",
    "        mxval, mxindx = findmin(x_cpy)\n",
    "        idx = mxindx[1]\n",
    "        indexes[i] = convert(Int16, idx)\n",
    "        \n",
    "        x_cpy[idx] = 1\n",
    "    end\n",
    "    \n",
    "    indexes\n",
    "end"
   ]
  },
  {
   "cell_type": "code",
   "execution_count": 17,
   "metadata": {},
   "outputs": [
    {
     "ename": "LoadError",
     "evalue": "UndefVarError: x_pi not defined",
     "output_type": "error",
     "traceback": [
      "UndefVarError: x_pi not defined",
      "",
      "Stacktrace:",
      " [1] top-level scope at In[17]:1",
      " [2] include_string(::Function, ::Module, ::String, ::String) at ./loading.jl:1091",
      " [3] execute_code(::String, ::String) at /Users/abhargava/.julia/packages/IJulia/rWZ9e/src/execute_request.jl:27",
      " [4] execute_request(::ZMQ.Socket, ::IJulia.Msg) at /Users/abhargava/.julia/packages/IJulia/rWZ9e/src/execute_request.jl:86",
      " [5] #invokelatest#1 at ./essentials.jl:710 [inlined]",
      " [6] invokelatest at ./essentials.jl:709 [inlined]",
      " [7] eventloop(::ZMQ.Socket) at /Users/abhargava/.julia/packages/IJulia/rWZ9e/src/eventloop.jl:8",
      " [8] (::IJulia.var\"#15#18\")() at ./task.jl:356"
     ]
    }
   ],
   "source": [
    "idxs = get_top_n(x_pi, 5)\n",
    "println(\"For Power Iteration\")\n",
    "for i = 1:5\n",
    "    println(\"Top \",i,\" Page: \",noms[idxs[i]],\" at index \",idxs[i],\" with score \",x_pi[idxs[i]])\n",
    "end\n",
    "println(\"--\")\n",
    "idxs = get_bottom_n(x_pi, 5)\n",
    "for i = 1:5\n",
    "    println(\"Bottom \",i,\" Page: \",noms[idxs[i]],\" at index \",idxs[i],\" with score \",x_pi[idxs[i]])\n",
    "end"
   ]
  },
  {
   "cell_type": "code",
   "execution_count": 18,
   "metadata": {},
   "outputs": [
    {
     "ename": "LoadError",
     "evalue": "UndefVarError: x_sipi not defined",
     "output_type": "error",
     "traceback": [
      "UndefVarError: x_sipi not defined",
      "",
      "Stacktrace:",
      " [1] top-level scope at In[18]:1",
      " [2] include_string(::Function, ::Module, ::String, ::String) at ./loading.jl:1091",
      " [3] execute_code(::String, ::String) at /Users/abhargava/.julia/packages/IJulia/rWZ9e/src/execute_request.jl:27",
      " [4] execute_request(::ZMQ.Socket, ::IJulia.Msg) at /Users/abhargava/.julia/packages/IJulia/rWZ9e/src/execute_request.jl:86",
      " [5] #invokelatest#1 at ./essentials.jl:710 [inlined]",
      " [6] invokelatest at ./essentials.jl:709 [inlined]",
      " [7] eventloop(::ZMQ.Socket) at /Users/abhargava/.julia/packages/IJulia/rWZ9e/src/eventloop.jl:8",
      " [8] (::IJulia.var\"#15#18\")() at ./task.jl:356"
     ]
    }
   ],
   "source": [
    "idxs = get_top_n(x_sipi, 5)\n",
    "println(\"For Shift-Invert Power Iteration (Not Taking Absolute Values)\")\n",
    "for i = 1:5\n",
    "    println(\"Top \",i,\" Page: \",noms[idxs[i]],\" at index \",idxs[i],\" with score \",x_sipi[idxs[i]])\n",
    "end\n",
    "println(\"--\")\n",
    "idxs = get_bottom_n(x_sipi, 5)\n",
    "for i = 1:5\n",
    "    println(\"Bottom \",i,\" Page: \",noms[idxs[i]],\" at index \",idxs[i],\" with score \",x_sipi[idxs[i]])\n",
    "end\n",
    "\n",
    "idxs = get_top_n(x_sipi, 5, true)\n",
    "println(\"\\n\\n\\nFor Shift-Invert Power Iteration (Absolute Values)\")\n",
    "for i = 1:5\n",
    "    println(\"Top \",i,\" Page: \",noms[idxs[i]],\" at index \",idxs[i],\" with score \",x_sipi[idxs[i]])\n",
    "end\n",
    "println(\"--\")\n",
    "idxs = get_bottom_n(x_sipi, 5)\n",
    "for i = 1:5\n",
    "    println(\"Bottom \",i,\" Page: \",noms[idxs[i]],\" at index \",idxs[i],\" with score \",x_sipi[idxs[i]])\n",
    "end"
   ]
  },
  {
   "cell_type": "code",
   "execution_count": 19,
   "metadata": {},
   "outputs": [
    {
     "ename": "LoadError",
     "evalue": "UndefVarError: x_rqi not defined",
     "output_type": "error",
     "traceback": [
      "UndefVarError: x_rqi not defined",
      "",
      "Stacktrace:",
      " [1] top-level scope at In[19]:1",
      " [2] include_string(::Function, ::Module, ::String, ::String) at ./loading.jl:1091",
      " [3] execute_code(::String, ::String) at /Users/abhargava/.julia/packages/IJulia/rWZ9e/src/execute_request.jl:27",
      " [4] execute_request(::ZMQ.Socket, ::IJulia.Msg) at /Users/abhargava/.julia/packages/IJulia/rWZ9e/src/execute_request.jl:86",
      " [5] #invokelatest#1 at ./essentials.jl:710 [inlined]",
      " [6] invokelatest at ./essentials.jl:709 [inlined]",
      " [7] eventloop(::ZMQ.Socket) at /Users/abhargava/.julia/packages/IJulia/rWZ9e/src/eventloop.jl:8",
      " [8] (::IJulia.var\"#15#18\")() at ./task.jl:356"
     ]
    }
   ],
   "source": [
    "idxs = get_top_n(x_rqi, 5)\n",
    "println(\"For Rayleigh Quotient Iteration\")\n",
    "for i = 1:5\n",
    "    println(\"Top \",i,\" Page: \",noms[idxs[i]],\" at index \",idxs[i],\" with score \", x_rqi[idxs[i]])\n",
    "end\n",
    "println(\"--\")\n",
    "idxs = get_bottom_n(x_rqi, 5)\n",
    "for i = 1:5\n",
    "    println(\"Bottom \",i,\" Page: \",noms[idxs[i]],\" at index \",idxs[i],\" with score \", x_rqi[idxs[i]])\n",
    "end"
   ]
  },
  {
   "cell_type": "code",
   "execution_count": 20,
   "metadata": {},
   "outputs": [
    {
     "ename": "LoadError",
     "evalue": "UndefVarError: A not defined",
     "output_type": "error",
     "traceback": [
      "UndefVarError: A not defined",
      "",
      "Stacktrace:",
      " [1] top-level scope at In[20]:1",
      " [2] include_string(::Function, ::Module, ::String, ::String) at ./loading.jl:1091",
      " [3] execute_code(::String, ::String) at /Users/abhargava/.julia/packages/IJulia/rWZ9e/src/execute_request.jl:27",
      " [4] execute_request(::ZMQ.Socket, ::IJulia.Msg) at /Users/abhargava/.julia/packages/IJulia/rWZ9e/src/execute_request.jl:86",
      " [5] #invokelatest#1 at ./essentials.jl:710 [inlined]",
      " [6] invokelatest at ./essentials.jl:709 [inlined]",
      " [7] eventloop(::ZMQ.Socket) at /Users/abhargava/.julia/packages/IJulia/rWZ9e/src/eventloop.jl:8",
      " [8] (::IJulia.var\"#15#18\")() at ./task.jl:356"
     ]
    }
   ],
   "source": [
    "get_err(A, x_pi)"
   ]
  },
  {
   "cell_type": "code",
   "execution_count": 21,
   "metadata": {},
   "outputs": [
    {
     "ename": "LoadError",
     "evalue": "UndefVarError: A not defined",
     "output_type": "error",
     "traceback": [
      "UndefVarError: A not defined",
      "",
      "Stacktrace:",
      " [1] top-level scope at In[21]:1",
      " [2] include_string(::Function, ::Module, ::String, ::String) at ./loading.jl:1091",
      " [3] execute_code(::String, ::String) at /Users/abhargava/.julia/packages/IJulia/rWZ9e/src/execute_request.jl:27",
      " [4] execute_request(::ZMQ.Socket, ::IJulia.Msg) at /Users/abhargava/.julia/packages/IJulia/rWZ9e/src/execute_request.jl:86",
      " [5] #invokelatest#1 at ./essentials.jl:710 [inlined]",
      " [6] invokelatest at ./essentials.jl:709 [inlined]",
      " [7] eventloop(::ZMQ.Socket) at /Users/abhargava/.julia/packages/IJulia/rWZ9e/src/eventloop.jl:8",
      " [8] (::IJulia.var\"#15#18\")() at ./task.jl:356"
     ]
    }
   ],
   "source": [
    "get_err(A, x_sipi)"
   ]
  },
  {
   "cell_type": "code",
   "execution_count": 22,
   "metadata": {},
   "outputs": [
    {
     "ename": "LoadError",
     "evalue": "UndefVarError: A not defined",
     "output_type": "error",
     "traceback": [
      "UndefVarError: A not defined",
      "",
      "Stacktrace:",
      " [1] top-level scope at In[22]:1",
      " [2] include_string(::Function, ::Module, ::String, ::String) at ./loading.jl:1091",
      " [3] execute_code(::String, ::String) at /Users/abhargava/.julia/packages/IJulia/rWZ9e/src/execute_request.jl:27",
      " [4] execute_request(::ZMQ.Socket, ::IJulia.Msg) at /Users/abhargava/.julia/packages/IJulia/rWZ9e/src/execute_request.jl:86",
      " [5] #invokelatest#1 at ./essentials.jl:710 [inlined]",
      " [6] invokelatest at ./essentials.jl:709 [inlined]",
      " [7] eventloop(::ZMQ.Socket) at /Users/abhargava/.julia/packages/IJulia/rWZ9e/src/eventloop.jl:8",
      " [8] (::IJulia.var\"#15#18\")() at ./task.jl:356"
     ]
    }
   ],
   "source": [
    "get_err(A, x_rqi)"
   ]
  },
  {
   "cell_type": "code",
   "execution_count": 25,
   "metadata": {},
   "outputs": [
    {
     "ename": "LoadError",
     "evalue": "UndefVarError: x_pi not defined",
     "output_type": "error",
     "traceback": [
      "UndefVarError: x_pi not defined",
      "",
      "Stacktrace:",
      " [1] top-level scope at In[25]:1",
      " [2] include_string(::Function, ::Module, ::String, ::String) at ./loading.jl:1091",
      " [3] execute_code(::String, ::String) at /Users/abhargava/.julia/packages/IJulia/rWZ9e/src/execute_request.jl:27",
      " [4] execute_request(::ZMQ.Socket, ::IJulia.Msg) at /Users/abhargava/.julia/packages/IJulia/rWZ9e/src/execute_request.jl:86",
      " [5] #invokelatest#1 at ./essentials.jl:710 [inlined]",
      " [6] invokelatest at ./essentials.jl:709 [inlined]",
      " [7] eventloop(::ZMQ.Socket) at /Users/abhargava/.julia/packages/IJulia/rWZ9e/src/eventloop.jl:8",
      " [8] (::IJulia.var\"#15#18\")() at ./task.jl:356"
     ]
    }
   ],
   "source": [
    "Plots.plot(x_pi, label=\"Power Iteration\")\n",
    "Plots.plot!(x_sipi, label=\"Shift-Inverte Power Method\")\n",
    "Plots.plot!(x_rqi, label=\"Rayleigh\")\n",
    "# Plots.savefig(\"guhguh\")"
   ]
  },
  {
   "cell_type": "code",
   "execution_count": 24,
   "metadata": {},
   "outputs": [
    {
     "data": {
      "text/plain": [
       "0.0"
      ]
     },
     "execution_count": 24,
     "metadata": {},
     "output_type": "execute_result"
    }
   ],
   "source": []
  },
  {
   "cell_type": "code",
   "execution_count": null,
   "metadata": {},
   "outputs": [],
   "source": []
  },
  {
   "cell_type": "code",
   "execution_count": null,
   "metadata": {},
   "outputs": [],
   "source": []
  },
  {
   "cell_type": "code",
   "execution_count": null,
   "metadata": {},
   "outputs": [],
   "source": []
  }
 ],
 "metadata": {
  "kernelspec": {
   "display_name": "Julia 1.5.1",
   "language": "julia",
   "name": "julia-1.5"
  },
  "language_info": {
   "file_extension": ".jl",
   "mimetype": "application/julia",
   "name": "julia",
   "version": "1.5.1"
  }
 },
 "nbformat": 4,
 "nbformat_minor": 4
}
