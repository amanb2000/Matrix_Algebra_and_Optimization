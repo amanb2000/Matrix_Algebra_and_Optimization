{
 "cells": [
  {
   "cell_type": "code",
   "execution_count": 6,
   "metadata": {},
   "outputs": [],
   "source": [
    "import numpy as np\n",
    "from projector import *"
   ]
  },
  {
   "cell_type": "code",
   "execution_count": 7,
   "metadata": {
    "tags": []
   },
   "outputs": [
    {
     "output_type": "stream",
     "name": "stdout",
     "text": "Step 1: Adjusted y (y-b) is: [3 2] - [-2 -4] = [5 6]\nStep 2: Our matrix of the inner products in S is: [[29.]]\nstep 3: Our vector of inner products <v_i, x> for each v_i in S is: [20]\nThe inverted matrix M_inv is [[0.03448276]] with M_inv*M = [[1.]]\nAlphas: [0.68965517]\ny_proj = alphas * S + b = [-3.37931034 -0.55172414]\nError between projection and original: [-6.37931034 -2.55172414]\n\nAre the inner products with all the set vectors and the error term:\n1.7763568394002505e-15\n\nDone computation\n"
    },
    {
     "output_type": "execute_result",
     "data": {
      "text/plain": "(array([0.68965517]), array([-3.37931034, -0.55172414]))"
     },
     "metadata": {},
     "execution_count": 7
    }
   ],
   "source": [
    "x1 = np.asarray([3, 2])\n",
    "v0 = np.asarray([-2, -4])\n",
    "v = np.asarray([[-2, 5]])\n",
    "\n",
    "project_full_soln(x1, v, v0)"
   ]
  },
  {
   "cell_type": "code",
   "execution_count": 11,
   "metadata": {},
   "outputs": [
    {
     "output_type": "execute_result",
     "data": {
      "text/plain": "6.244997998398398"
     },
     "metadata": {},
     "execution_count": 11
    }
   ],
   "source": [
    "def norm(v):\n",
    "    return np.sqrt(np.sum(v**2))\n",
    "\n",
    "norm(np.asarray([5, 2, 1, 3]))"
   ]
  },
  {
   "cell_type": "code",
   "execution_count": 12,
   "metadata": {},
   "outputs": [],
   "source": [
    "def project_full_soln(y_, S, b):\n",
    "    \"\"\"\n",
    "    Program to carry out the full solution to an affine projection question.\n",
    "    1. Subtract b from y (get back to subspace).\n",
    "    2. Create a matrix of inner products of the set.\n",
    "    3. Create a vector of inner products of the vectors in the set and the input.\n",
    "    4. Invert the matrix.\n",
    "    5. Multiply the inverse by the vector from 3 to get alpha values.\n",
    "    6. Reveal values of alpha values, b value, and the projected vector value as alphas.dot(v) + b.\n",
    "    \"\"\"\n",
    "    \n",
    "    y = np.copy(y_)\n",
    "    \n",
    "    y_original = np.copy(y)\n",
    "    y -= b\n",
    "    \n",
    "    print('Step 1: Adjusted y (y-b) is: {} - {} = {}'.format(y_original, b, y))\n",
    "    \n",
    "    M = np.zeros([len(S), len(S)])\n",
    "    for i in range(len(S)):\n",
    "        for j in range(len(S)):\n",
    "            M[i,j] = S[i].dot(S[j])\n",
    "    \n",
    "    print('Step 2: Our matrix of the inner products in S is: {}'.format(M))\n",
    "    \n",
    "    \n",
    "    v = S.dot(y)\n",
    "    print('step 3: Our vector of inner products <v_i, x> for each v_i in S is: {}'.format(v))\n",
    "    \n",
    "    M_inv = np.linalg.inv(M)\n",
    "    print('The inverted matrix M_inv is {} with M_inv*M = {}'.format(M_inv, M.dot(M_inv)))\n",
    "    \n",
    "    alphas = M_inv.dot(v)\n",
    "    y_proj = alphas.dot(S) + b\n",
    "    \n",
    "    print('Alphas: {}'.format(alphas))\n",
    "    print('y_proj = alphas * S + b = {}'.format(y_proj))\n",
    "    \n",
    "    error = y_proj - y_original\n",
    "    \n",
    "    print('Error between projection and original: {}'.format(error))\n",
    "    \n",
    "    print('\\nAre the inner products with all the set vectors and the error term:')\n",
    "    \n",
    "    for i in S:\n",
    "        print(i.dot(error))\n",
    "        \n",
    "    print('\\nDone computation')\n",
    "    \n",
    "    "
   ]
  },
  {
   "cell_type": "code",
   "execution_count": 13,
   "metadata": {
    "tags": []
   },
   "outputs": [
    {
     "output_type": "stream",
     "name": "stdout",
     "text": "Step 1: Adjusted y (y-b) is: [ 3  5 12] - 1 = [ 2  4 11]\nStep 2: Our matrix of the inner products in S is: [[  5.  11.]\n [ 11. 650.]]\nstep 3: Our vector of inner products <v_i, x> for each v_i in S is: [   8 -209]\nThe inverted matrix M_inv is [[ 0.2077341  -0.0035155 ]\n [-0.0035155   0.00159795]] with M_inv*M = [[ 1.00000000e+00 -1.38777878e-17]\n [ 0.00000000e+00  1.00000000e+00]]\nAlphas: [ 2.39661234 -0.36209652]\ny_proj = alphas * S + b = [ 5.79322467 -0.58644934  9.32821988]\nError between projection and original: [ 2.79322467 -5.58644934 -2.67178012]\n\nAre the inner products with all the set vectors and the error term:\n3.552713678800501e-15\n3.552713678800501e-14\n\nDone computation\n"
    }
   ],
   "source": [
    "S = np.asarray([[2, 1, 0], [0, 11, -23]])\n",
    "y = np.asarray([3, 5, 12])\n",
    "b = np.asarray([2, 32, 3])\n",
    "\n",
    "project_full_soln(y, S, 1)"
   ]
  },
  {
   "cell_type": "code",
   "execution_count": 20,
   "metadata": {},
   "outputs": [],
   "source": []
  },
  {
   "cell_type": "code",
   "execution_count": 21,
   "metadata": {},
   "outputs": [],
   "source": []
  },
  {
   "cell_type": "code",
   "execution_count": 22,
   "metadata": {},
   "outputs": [
    {
     "data": {
      "text/plain": [
       "0.0"
      ]
     },
     "execution_count": 22,
     "metadata": {},
     "output_type": "execute_result"
    }
   ],
   "source": []
  },
  {
   "cell_type": "code",
   "execution_count": null,
   "metadata": {},
   "outputs": [],
   "source": []
  }
 ],
 "metadata": {
  "kernelspec": {
   "display_name": "Python 3",
   "language": "python",
   "name": "python3"
  },
  "language_info": {
   "codemirror_mode": {
    "name": "ipython",
    "version": 3
   },
   "file_extension": ".py",
   "mimetype": "text/x-python",
   "name": "python",
   "nbconvert_exporter": "python",
   "pygments_lexer": "ipython3",
   "version": "3.8.3-final"
  }
 },
 "nbformat": 4,
 "nbformat_minor": 4
}