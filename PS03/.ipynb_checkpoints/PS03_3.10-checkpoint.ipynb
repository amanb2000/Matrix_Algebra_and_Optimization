{
 "cells": [
  {
   "cell_type": "markdown",
   "metadata": {},
   "source": [
    "# ECE367 Problem Set 3: Problem 3.10\n",
    "\n",
    "## Tasks\n",
    "\n",
    "- [x] Import `wordVecV.mat`. \n",
    "- [x] Calculate 'raw' term-by-document matrix $M$ based on $[M]_{i,j} = \\mathbb{1}([V]_{i,j})$. \n",
    "- [x] Calculate $\\tilde{M}$ (normalized version of $M$).\n",
    "- [x] Calculate `svd` of $\\tilde{M}$ and list 10 largest singular values in sorted order.\n",
    "- [x] Use distance calculation from (b) $s_i= \\Sigma^{-1}U^T x_i$; $\\text{distance}_{i, j} = (s_i \\cdot s_j)/(|s_i| |s_j|)$ to calculate distances between each of the vectors.\n",
    "    - [ ] Use $k = 9$ rank approximation. Write down titles of most similar one.\n",
    "- [ ] Repeat with $k = 8, 7, 6, ..., 1$. \n",
    "    - [ ] Write down lowest $k$ that does not change closest documents.\n",
    "    - [ ] Repeat for $k-1$ and write most similar pair for that situation."
   ]
  },
  {
   "cell_type": "code",
   "execution_count": 2,
   "metadata": {
    "execution": {
     "iopub.execute_input": "2020-10-25T02:02:23.074Z",
     "iopub.status.busy": "2020-10-25T02:02:23.068Z",
     "iopub.status.idle": "2020-10-25T02:02:25.737Z"
    }
   },
   "outputs": [],
   "source": [
    "##############\n",
    "# IMPORT BOX #\n",
    "##############\n",
    "\n",
    "using LinearAlgebra\n",
    "using MAT"
   ]
  },
  {
   "cell_type": "code",
   "execution_count": 3,
   "metadata": {
    "execution": {
     "iopub.execute_input": "2020-10-25T02:02:27.034Z",
     "iopub.status.busy": "2020-10-25T02:02:27.028Z",
     "iopub.status.idle": "2020-10-25T02:02:29.397Z"
    }
   },
   "outputs": [],
   "source": [
    "###################\n",
    "# DATA IMPORT BOX #\n",
    "###################\n",
    "vars = matread(\"wordVecV.mat\");\n",
    "V = vars[\"V\"];"
   ]
  },
  {
   "cell_type": "code",
   "execution_count": 4,
   "metadata": {
    "execution": {
     "iopub.execute_input": "2020-10-25T02:02:36.822Z",
     "iopub.status.busy": "2020-10-25T02:02:36.816Z",
     "iopub.status.idle": "2020-10-25T02:02:36.831Z"
    }
   },
   "outputs": [],
   "source": [
    "###############################\n",
    "# Calculating raw term matrix #\n",
    "###############################\n",
    "\n",
    "M = V .> 0;"
   ]
  },
  {
   "cell_type": "code",
   "execution_count": 5,
   "metadata": {
    "execution": {
     "iopub.execute_input": "2020-10-25T02:02:38.056Z",
     "iopub.status.busy": "2020-10-25T02:02:38.050Z",
     "iopub.status.idle": "2020-10-25T02:02:38.207Z"
    }
   },
   "outputs": [],
   "source": [
    "############################\n",
    "# Normalizing for Each Row #\n",
    "############################\n",
    "\n",
    "M̃ = zeros(size(M))\n",
    "\n",
    "for i = 1:size(M,2)\n",
    "    M̃[:,i] = M[:,i]/sum(M[:,i])\n",
    "end"
   ]
  },
  {
   "cell_type": "code",
   "execution_count": 15,
   "metadata": {
    "execution": {
     "iopub.execute_input": "2020-10-25T02:02:39.497Z",
     "iopub.status.busy": "2020-10-25T02:02:39.491Z",
     "iopub.status.idle": "2020-10-25T02:02:39.909Z"
    }
   },
   "outputs": [
    {
     "name": "stdout",
     "output_type": "stream",
     "text": [
      "Largest 10 singular values: \n",
      "[0.11017223548493625, 0.07927613517189627, 0.07440785850204659, 0.06946862818360801, 0.06474427999716866, 0.060570119029771344, 0.060069118654154825, 0.054051285198182024, 0.0511543437422194, 0.04925926657142573]\n"
     ]
    }
   ],
   "source": [
    "###############################\n",
    "# Calculating SVD of tilde{M} #\n",
    "###############################\n",
    "\n",
    "U, σ, V = svd(M̃);\n",
    "Σ = diagm(σ);\n",
    "\n",
    "println(\"Largest 10 singular values: \");\n",
    "println(σ);"
   ]
  },
  {
   "cell_type": "code",
   "execution_count": 33,
   "metadata": {
    "execution": {
     "iopub.execute_input": "2020-10-25T02:03:09.543Z",
     "iopub.status.busy": "2020-10-25T02:03:09.539Z",
     "iopub.status.idle": "2020-10-25T02:03:09.552Z"
    }
   },
   "outputs": [
    {
     "name": "stdout",
     "output_type": "stream",
     "text": [
      "Ensuring approximation validity\n",
      "Error of M̃_approx: 1.462643495439325e-15\n"
     ]
    }
   ],
   "source": [
    "######################################\n",
    "# Determining Decomposition Validity #\n",
    "######################################\n",
    "\n",
    "println(\"Ensuring approximation validity\")\n",
    "\n",
    "M̃_approx = U*Σ*transpose(V)\n",
    "\n",
    "println(\"Error of M̃_approx: \",norm(M̃-M̃_approx)/norm(M̃))"
   ]
  },
  {
   "cell_type": "code",
   "execution_count": 105,
   "metadata": {},
   "outputs": [
    {
     "data": {
      "text/plain": [
       "get_latent_dist (generic function with 2 methods)"
      ]
     },
     "execution_count": 105,
     "metadata": {},
     "output_type": "execute_result"
    }
   ],
   "source": [
    "function latent_encode(x, U, Σ, k)\n",
    "    s = inv(Σ[1:k,1:k])*transpose(U[:, 1:k])*x;\n",
    "    return s\n",
    "end\n",
    "\n",
    "function get_latent_dist(x1, x2, U, Σ, k)\n",
    "    s1 = latent_encode(x1, U, Σ, k);\n",
    "    s2 = latent_encode(x2, U, Σ, k);\n",
    "    denom =  norm(s1) * norm(s2);\n",
    "    numerator = dot(s1,s2)\n",
    "    return numerator/denom\n",
    "end"
   ]
  },
  {
   "cell_type": "code",
   "execution_count": 108,
   "metadata": {},
   "outputs": [
    {
     "data": {
      "text/plain": [
       "get_sim_mat (generic function with 1 method)"
      ]
     },
     "execution_count": 108,
     "metadata": {},
     "output_type": "execute_result"
    }
   ],
   "source": [
    "function get_sim_mat(M̃, U, Σ, k)\n",
    "    similarity_mat = zeros(10,10)\n",
    "    \n",
    "    for i = 1:size(M̃,2)\n",
    "        for j = 1:size(M̃,2)\n",
    "            similarity_mat[i,j] = get_latent_dist(M̃[:,i], M̃[:,j], U, Σ, k)\n",
    "            if i == j\n",
    "                similarity_mat[i,j] = 0\n",
    "            end\n",
    "        end\n",
    "    end\n",
    "    \n",
    "    return similarity_mat\n",
    "end"
   ]
  },
  {
   "cell_type": "code",
   "execution_count": 109,
   "metadata": {},
   "outputs": [
    {
     "data": {
      "text/plain": [
       "10×10 Array{Float64,2}:\n",
       "  0.0          -0.00101087   -0.000520564  …  -0.033852     0.0553758\n",
       " -0.00101087    0.0          -0.000273633     -0.0177942    0.0291082\n",
       " -0.000520564  -0.000273633   0.0             -0.00916337   0.0149896\n",
       "  0.0003923     0.000206212   0.000106191      0.00690558  -0.0112963\n",
       "  0.00196948    0.00103525    0.000533116      0.0346683   -0.0567111\n",
       " -0.00089684   -0.000471421  -0.000242765  …  -0.0157869    0.0258245\n",
       " -0.00184979   -0.000972337  -0.000500718     -0.0325615    0.0532648\n",
       " -0.00315669   -0.0016593    -0.000854481     -0.0555665    0.0908968\n",
       " -0.033852     -0.0177942    -0.00916337       0.0          0.974769\n",
       "  0.0553758     0.0291082     0.0149896        0.974769     0.0"
      ]
     },
     "execution_count": 109,
     "metadata": {},
     "output_type": "execute_result"
    }
   ],
   "source": [
    "sim_mat = get_sim_mat(M̃, U, Σ, 9);"
   ]
  },
  {
   "cell_type": "code",
   "execution_count": 110,
   "metadata": {},
   "outputs": [
    {
     "data": {
      "text/plain": [
       "rank_order_sim (generic function with 1 method)"
      ]
     },
     "execution_count": 110,
     "metadata": {},
     "output_type": "execute_result"
    }
   ],
   "source": [
    "function rank_order_sim(sim_mat_in)\n",
    "    sim_mat = copy(sim_mat_in)\n",
    "    for i = 1:size(sim_mat,1)\n",
    "        mx = argmax(sim_mat)\n",
    "        println(i,\": \",mx)\n",
    "        sim_mat[mx] = -1000\n",
    "        sim_mat[mx[2],mx[1]] = -1000\n",
    "    end\n",
    "end"
   ]
  },
  {
   "cell_type": "code",
   "execution_count": 126,
   "metadata": {},
   "outputs": [
    {
     "data": {
      "text/plain": [
       "find_sim (generic function with 1 method)"
      ]
     },
     "execution_count": 126,
     "metadata": {},
     "output_type": "execute_result"
    }
   ],
   "source": [
    "function find_sim(M̃, U, Σ, k)\n",
    "    sim_mat = get_sim_mat(M̃, U, Σ, k);\n",
    "    println(\"For k = \",k,\", the top similar vectors are: \")\n",
    "    rank_order_sim(sim_mat)\n",
    "end"
   ]
  },
  {
   "cell_type": "code",
   "execution_count": 127,
   "metadata": {},
   "outputs": [
    {
     "name": "stdout",
     "output_type": "stream",
     "text": [
      "For k = 9, the top similar vectors are: \n",
      "1: CartesianIndex(10, 9)\n",
      "2: CartesianIndex(10, 8)\n",
      "3: CartesianIndex(10, 1)\n",
      "4: CartesianIndex(10, 7)\n",
      "5: CartesianIndex(9, 5)\n",
      "6: CartesianIndex(10, 2)\n",
      "7: CartesianIndex(10, 6)\n",
      "8: CartesianIndex(10, 3)\n",
      "9: CartesianIndex(9, 4)\n",
      "10: CartesianIndex(8, 5)\n"
     ]
    }
   ],
   "source": [
    "find_sim(M̃, U, Σ, 9)"
   ]
  },
  {
   "cell_type": "code",
   "execution_count": 128,
   "metadata": {},
   "outputs": [
    {
     "name": "stdout",
     "output_type": "stream",
     "text": [
      "For k = 8, the top similar vectors are: \n",
      "1: CartesianIndex(10, 9)\n",
      "2: CartesianIndex(6, 4)\n",
      "3: CartesianIndex(4, 2)\n",
      "4: CartesianIndex(10, 8)\n",
      "5: CartesianIndex(10, 1)\n",
      "6: CartesianIndex(10, 7)\n",
      "7: CartesianIndex(9, 5)\n",
      "8: CartesianIndex(4, 3)\n",
      "9: CartesianIndex(7, 6)\n",
      "10: CartesianIndex(8, 6)\n"
     ]
    }
   ],
   "source": [
    "find_sim(M̃, U, Σ, 8)"
   ]
  },
  {
   "cell_type": "code",
   "execution_count": 129,
   "metadata": {},
   "outputs": [
    {
     "name": "stdout",
     "output_type": "stream",
     "text": [
      "For k = 7, the top similar vectors are: \n",
      "1: CartesianIndex(10, 9)\n",
      "2: CartesianIndex(6, 4)\n",
      "3: CartesianIndex(4, 2)\n",
      "4: CartesianIndex(6, 2)\n",
      "5: CartesianIndex(10, 6)\n",
      "6: CartesianIndex(6, 1)\n",
      "7: CartesianIndex(9, 6)\n",
      "8: CartesianIndex(10, 4)\n",
      "9: CartesianIndex(4, 1)\n",
      "10: CartesianIndex(9, 4)\n"
     ]
    }
   ],
   "source": [
    "find_sim(M̃, U, Σ, 7) # Lowest k that does not change top-ranked pair."
   ]
  },
  {
   "cell_type": "code",
   "execution_count": 130,
   "metadata": {},
   "outputs": [
    {
     "name": "stdout",
     "output_type": "stream",
     "text": [
      "For k = 6, the top similar vectors are: \n",
      "1: CartesianIndex(6, 4)\n",
      "2: CartesianIndex(10, 9)\n",
      "3: CartesianIndex(4, 2)\n",
      "4: CartesianIndex(10, 6)\n",
      "5: CartesianIndex(9, 6)\n",
      "6: CartesianIndex(9, 4)\n",
      "7: CartesianIndex(6, 2)\n",
      "8: CartesianIndex(10, 4)\n",
      "9: CartesianIndex(9, 2)\n",
      "10: CartesianIndex(10, 2)\n"
     ]
    }
   ],
   "source": [
    "find_sim(M̃, U, Σ, 6) # Most similar documents for k-1"
   ]
  },
  {
   "cell_type": "code",
   "execution_count": null,
   "metadata": {},
   "outputs": [],
   "source": []
  }
 ],
 "metadata": {
  "kernelspec": {
   "display_name": "Julia 1.5.1",
   "language": "julia",
   "name": "julia-1.5"
  },
  "language_info": {
   "file_extension": ".jl",
   "mimetype": "application/julia",
   "name": "julia",
   "version": "1.5.1"
  },
  "nteract": {
   "version": "0.25.1"
  }
 },
 "nbformat": 4,
 "nbformat_minor": 4
}
