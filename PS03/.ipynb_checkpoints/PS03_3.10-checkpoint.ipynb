{
 "cells": [
  {
   "cell_type": "markdown",
   "metadata": {},
   "source": [
    "# ECE367 Problem Set 3: Problem 3.10\n",
    "\n",
    "## Tasks\n",
    "\n",
    "- [x] Import `wordVecV.mat`. \n",
    "- [x] Calculate 'raw' term-by-document matrix $M$ based on $[M]_{i,j} = \\mathbb{1}([V]_{i,j})$. \n",
    "- [x] Calculate $\\tilde{M}$ (normalized version of $M$).\n",
    "- [x] Calculate `svd` of $\\tilde{M}$ and list 10 largest singular values in sorted order.\n",
    "- [ ] Use distance calculation from (b) $s_i= \\Sigma^{-1}U^T x_i$; $\\text{distance}_{i, j} = (s_i \\cdot s_j)/(|s_i| |s_j|)$ to calculate distances between each of the vectors.\n",
    "    - [ ] Use $k = 9$ rank approximation. Write down titles of most similar ones.\n",
    "- [ ] Repeat with $k = 8, 7, 6, ..., 1$. \n",
    "    - [ ] Write down lowest $k$ that does not change closest documents.\n",
    "    - [ ] Repeat for $k-1$ and write most similar pair for that situation."
   ]
  },
  {
   "cell_type": "code",
   "execution_count": 2,
   "metadata": {
    "execution": {
     "iopub.execute_input": "2020-10-25T02:02:23.074Z",
     "iopub.status.busy": "2020-10-25T02:02:23.068Z",
     "iopub.status.idle": "2020-10-25T02:02:25.737Z"
    }
   },
   "outputs": [],
   "source": [
    "##############\n",
    "# IMPORT BOX #\n",
    "##############\n",
    "\n",
    "using LinearAlgebra\n",
    "using MAT"
   ]
  },
  {
   "cell_type": "code",
   "execution_count": 3,
   "metadata": {
    "execution": {
     "iopub.execute_input": "2020-10-25T02:02:27.034Z",
     "iopub.status.busy": "2020-10-25T02:02:27.028Z",
     "iopub.status.idle": "2020-10-25T02:02:29.397Z"
    }
   },
   "outputs": [],
   "source": [
    "###################\n",
    "# DATA IMPORT BOX #\n",
    "###################\n",
    "vars = matread(\"wordVecV.mat\");\n",
    "V = vars[\"V\"];"
   ]
  },
  {
   "cell_type": "code",
   "execution_count": 4,
   "metadata": {
    "execution": {
     "iopub.execute_input": "2020-10-25T02:02:36.822Z",
     "iopub.status.busy": "2020-10-25T02:02:36.816Z",
     "iopub.status.idle": "2020-10-25T02:02:36.831Z"
    }
   },
   "outputs": [],
   "source": [
    "###############################\n",
    "# Calculating raw term matrix #\n",
    "###############################\n",
    "\n",
    "M = V .> 0;"
   ]
  },
  {
   "cell_type": "code",
   "execution_count": 5,
   "metadata": {
    "execution": {
     "iopub.execute_input": "2020-10-25T02:02:38.056Z",
     "iopub.status.busy": "2020-10-25T02:02:38.050Z",
     "iopub.status.idle": "2020-10-25T02:02:38.207Z"
    }
   },
   "outputs": [],
   "source": [
    "############################\n",
    "# Normalizing for Each Row #\n",
    "############################\n",
    "\n",
    "M̃ = zeros(size(M))\n",
    "\n",
    "for i = 1:size(M,2)\n",
    "    M̃[:,i] = M[:,i]/sum(M[:,i])\n",
    "end"
   ]
  },
  {
   "cell_type": "code",
   "execution_count": 15,
   "metadata": {
    "execution": {
     "iopub.execute_input": "2020-10-25T02:02:39.497Z",
     "iopub.status.busy": "2020-10-25T02:02:39.491Z",
     "iopub.status.idle": "2020-10-25T02:02:39.909Z"
    }
   },
   "outputs": [
    {
     "name": "stdout",
     "output_type": "stream",
     "text": [
      "Largest 10 singular values: \n",
      "[0.11017223548493625, 0.07927613517189627, 0.07440785850204659, 0.06946862818360801, 0.06474427999716866, 0.060570119029771344, 0.060069118654154825, 0.054051285198182024, 0.0511543437422194, 0.04925926657142573]\n"
     ]
    }
   ],
   "source": [
    "###############################\n",
    "# Calculating SVD of tilde{M} #\n",
    "###############################\n",
    "\n",
    "U, σ, V = svd(M̃);\n",
    "Σ = diagm(σ);\n",
    "\n",
    "println(\"Largest 10 singular values: \");\n",
    "println(σ);"
   ]
  },
  {
   "cell_type": "code",
   "execution_count": 33,
   "metadata": {
    "execution": {
     "iopub.execute_input": "2020-10-25T02:03:09.543Z",
     "iopub.status.busy": "2020-10-25T02:03:09.539Z",
     "iopub.status.idle": "2020-10-25T02:03:09.552Z"
    }
   },
   "outputs": [
    {
     "name": "stdout",
     "output_type": "stream",
     "text": [
      "Ensuring approximation validity\n",
      "Error of M̃_approx: 1.462643495439325e-15\n"
     ]
    }
   ],
   "source": [
    "######################################\n",
    "# Determining Decomposition Validity #\n",
    "######################################\n",
    "\n",
    "println(\"Ensuring approximation validity\")\n",
    "\n",
    "M̃_approx = U*Σ*transpose(V)\n",
    "\n",
    "println(\"Error of M̃_approx: \",norm(M̃-M̃_approx)/norm(M̃))"
   ]
  },
  {
   "cell_type": "code",
   "execution_count": 60,
   "metadata": {},
   "outputs": [
    {
     "data": {
      "text/plain": [
       "get_latent_dist (generic function with 2 methods)"
      ]
     },
     "execution_count": 60,
     "metadata": {},
     "output_type": "execute_result"
    }
   ],
   "source": [
    "function latent_encode(x, U, Σ, k)\n",
    "    s = inv(Σ[1:k,1:k])*transpose(U[:, 1:k])*x;\n",
    "    return s\n",
    "end\n",
    "\n",
    "function get_latent_dist(x1, x2, U, Σ, k)\n",
    "    s1 = latent_encode(x1, U, Σ, k);\n",
    "    s2 = latent_encode(x2, U, Σ, k);\n",
    "    denom =  norm(s1) * norm(s2);\n",
    "    numerator = dot(s1,s2)\n",
    "    return numerator/denom\n",
    "end"
   ]
  },
  {
   "cell_type": "code",
   "execution_count": 66,
   "metadata": {},
   "outputs": [
    {
     "data": {
      "text/plain": [
       "2.6020852139652103e-18"
      ]
     },
     "execution_count": 66,
     "metadata": {},
     "output_type": "execute_result"
    }
   ],
   "source": [
    "get_latent_dist(M̃[:,1], M̃[:,6], U, Σ, 10)"
   ]
  },
  {
   "cell_type": "code",
   "execution_count": 67,
   "metadata": {},
   "outputs": [
    {
     "data": {
      "text/plain": [
       "10-element Array{Float64,1}:\n",
       " -0.200974785103816\n",
       " -0.059353539813775266\n",
       " -0.1055986458917382\n",
       "  0.25006662279233244\n",
       " -0.3529058582888234\n",
       "  0.8230737566133176\n",
       " -0.2160049415708304\n",
       "  0.17840878546651212\n",
       " -0.001306445955263835\n",
       "  0.043811108857229414"
      ]
     },
     "execution_count": 67,
     "metadata": {},
     "output_type": "execute_result"
    }
   ],
   "source": [
    "latent_encode(M̃[:,1], U, Σ, 10) # Testing latent encoding system -- it is equal to the first row of V!"
   ]
  },
  {
   "cell_type": "code",
   "execution_count": 68,
   "metadata": {},
   "outputs": [
    {
     "data": {
      "text/plain": [
       "get_sim_mat (generic function with 1 method)"
      ]
     },
     "execution_count": 68,
     "metadata": {},
     "output_type": "execute_result"
    }
   ],
   "source": [
    "function get_sim_mat(M̃, U, Σ, k)\n",
    "    similarity_mat = zeros(10,10)\n",
    "    \n",
    "    for i = 1:size(M̃,2)\n",
    "        for j = 1:size(M̃,2)\n",
    "            similarity_mat[i,j] = get_latent_dist(M̃[:,i], M̃[:,j], U, Σ, k)\n",
    "            if i == j\n",
    "                similarity_mat[i,j] = 0\n",
    "            end\n",
    "        end\n",
    "    end\n",
    "    \n",
    "    return similarity_mat\n",
    "end"
   ]
  },
  {
   "cell_type": "code",
   "execution_count": 69,
   "metadata": {},
   "outputs": [
    {
     "data": {
      "text/plain": [
       "10×10 Array{Float64,2}:\n",
       "  1.0           4.12864e-16  -9.15067e-17  …   3.33067e-16   3.46945e-16\n",
       "  4.12864e-16   1.0          -1.34506e-15     -2.48065e-16   8.67362e-17\n",
       " -9.15067e-17  -1.34506e-15   1.0             -4.84855e-16  -7.35523e-16\n",
       " -1.40946e-18  -9.87166e-17   2.46222e-16      1.29237e-16  -3.40006e-16\n",
       "  3.33934e-17  -5.00468e-16  -1.10675e-15     -5.10009e-16   1.66533e-16\n",
       "  2.60209e-18  -2.29851e-16  -2.33293e-16  …   7.32053e-16  -1.38778e-17\n",
       " -7.80842e-16   7.75205e-17  -6.94974e-17      1.56125e-16  -2.91434e-16\n",
       "  2.88831e-16   1.97325e-17   3.91072e-16     -5.13478e-16  -1.41553e-15\n",
       "  3.33067e-16  -2.48065e-16  -4.84855e-16      1.0          -1.11022e-16\n",
       "  3.46945e-16   8.67362e-17  -7.35523e-16     -1.11022e-16   1.0"
      ]
     },
     "execution_count": 69,
     "metadata": {},
     "output_type": "execute_result"
    }
   ],
   "source": [
    "sim_mat = get_sim_mat(M̃, U, Σ, 10)"
   ]
  },
  {
   "cell_type": "code",
   "execution_count": 52,
   "metadata": {},
   "outputs": [
    {
     "data": {
      "text/plain": [
       "0.0"
      ]
     },
     "execution_count": 52,
     "metadata": {},
     "output_type": "execute_result"
    }
   ],
   "source": []
  },
  {
   "cell_type": "code",
   "execution_count": null,
   "metadata": {},
   "outputs": [],
   "source": []
  }
 ],
 "metadata": {
  "kernelspec": {
   "display_name": "Julia 1.5.1",
   "language": "julia",
   "name": "julia-1.5"
  },
  "language_info": {
   "file_extension": ".jl",
   "mimetype": "application/julia",
   "name": "julia",
   "version": "1.5.1"
  },
  "nteract": {
   "version": "0.25.1"
  }
 },
 "nbformat": 4,
 "nbformat_minor": 4
}
