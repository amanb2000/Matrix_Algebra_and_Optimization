{
 "cells": [
  {
   "cell_type": "markdown",
   "metadata": {},
   "source": [
    "# ECE367 Problem Set 3: Problem 3.10\n",
    "\n",
    "## Tasks\n",
    "\n",
    "- [x] Import `wordVecV.mat`. \n",
    "- [x] Calculate 'raw' term-by-document matrix $M$ based on $[M]_{i,j} = \\mathbb{1}([V]_{i,j})$. \n",
    "- [x] Calculate $\\tilde{M}$ (normalized version of $M$).\n",
    "- [x] Calculate `svd` of $\\tilde{M}$ and list 10 largest singular values in sorted order.\n",
    "- [x] Use distance calculation from (b) $s_i= \\Sigma^{-1}U^T x_i$; $\\text{distance}_{i, j} = (s_i \\cdot s_j)/(|s_i| |s_j|)$ to calculate distances between each of the vectors.\n",
    "    - [ ] Use $k = 9$ rank approximation. Write down titles of most similar one.\n",
    "- [ ] Repeat with $k = 8, 7, 6, ..., 1$. \n",
    "    - [ ] Write down lowest $k$ that does not change closest documents.\n",
    "    - [ ] Repeat for $k-1$ and write most similar pair for that situation."
   ]
  },
  {
   "cell_type": "code",
   "execution_count": 131,
   "metadata": {
    "execution": {
     "iopub.execute_input": "2020-10-25T02:02:23.074Z",
     "iopub.status.busy": "2020-10-25T02:02:23.068Z",
     "iopub.status.idle": "2020-10-25T02:02:25.737Z"
    }
   },
   "outputs": [],
   "source": [
    "##############\n",
    "# IMPORT BOX #\n",
    "##############\n",
    "\n",
    "using LinearAlgebra\n",
    "using MAT"
   ]
  },
  {
   "cell_type": "code",
   "execution_count": 132,
   "metadata": {
    "execution": {
     "iopub.execute_input": "2020-10-25T02:02:27.034Z",
     "iopub.status.busy": "2020-10-25T02:02:27.028Z",
     "iopub.status.idle": "2020-10-25T02:02:29.397Z"
    }
   },
   "outputs": [],
   "source": [
    "###################\n",
    "# DATA IMPORT BOX #\n",
    "###################\n",
    "vars = matread(\"wordVecV.mat\");\n",
    "V = vars[\"V\"];"
   ]
  },
  {
   "cell_type": "code",
   "execution_count": 133,
   "metadata": {
    "execution": {
     "iopub.execute_input": "2020-10-25T02:02:36.822Z",
     "iopub.status.busy": "2020-10-25T02:02:36.816Z",
     "iopub.status.idle": "2020-10-25T02:02:36.831Z"
    }
   },
   "outputs": [],
   "source": [
    "###############################\n",
    "# Calculating raw term matrix #\n",
    "###############################\n",
    "\n",
    "M = V .> 0;"
   ]
  },
  {
   "cell_type": "code",
   "execution_count": 134,
   "metadata": {
    "execution": {
     "iopub.execute_input": "2020-10-25T02:02:38.056Z",
     "iopub.status.busy": "2020-10-25T02:02:38.050Z",
     "iopub.status.idle": "2020-10-25T02:02:38.207Z"
    }
   },
   "outputs": [],
   "source": [
    "############################\n",
    "# Normalizing for Each Row #\n",
    "############################\n",
    "\n",
    "M̃ = zeros(size(M))\n",
    "\n",
    "for i = 1:size(M,2)\n",
    "    M̃[:,i] = M[:,i]/norm(M[:,i])\n",
    "end"
   ]
  },
  {
   "cell_type": "code",
   "execution_count": 135,
   "metadata": {
    "execution": {
     "iopub.execute_input": "2020-10-25T02:02:39.497Z",
     "iopub.status.busy": "2020-10-25T02:02:39.491Z",
     "iopub.status.idle": "2020-10-25T02:02:39.909Z"
    }
   },
   "outputs": [
    {
     "name": "stdout",
     "output_type": "stream",
     "text": [
      "Largest 10 singular values: \n",
      "[1.5366294177331445, 1.0192424086695382, 0.958684541435874, 0.9539129459951032, 0.9413064001927458, 0.9289078001291811, 0.8977405000640665, 0.8918819220380092, 0.8686645393885041, 0.8160833878423517]\n"
     ]
    }
   ],
   "source": [
    "###############################\n",
    "# Calculating SVD of tilde{M} #\n",
    "###############################\n",
    "\n",
    "U, σ, V = svd(M̃);\n",
    "Σ = diagm(σ);\n",
    "\n",
    "println(\"Largest 10 singular values: \");\n",
    "println(σ);"
   ]
  },
  {
   "cell_type": "code",
   "execution_count": 136,
   "metadata": {
    "execution": {
     "iopub.execute_input": "2020-10-25T02:03:09.543Z",
     "iopub.status.busy": "2020-10-25T02:03:09.539Z",
     "iopub.status.idle": "2020-10-25T02:03:09.552Z"
    }
   },
   "outputs": [
    {
     "name": "stdout",
     "output_type": "stream",
     "text": [
      "Ensuring approximation validity\n",
      "Error of M̃_approx: 2.2142216960795045e-15\n"
     ]
    }
   ],
   "source": [
    "######################################\n",
    "# Determining Decomposition Validity #\n",
    "######################################\n",
    "\n",
    "println(\"Ensuring approximation validity\")\n",
    "\n",
    "M̃_approx = U*Σ*transpose(V)\n",
    "\n",
    "println(\"Error of M̃_approx: \",norm(M̃-M̃_approx)/norm(M̃))"
   ]
  },
  {
   "cell_type": "code",
   "execution_count": 137,
   "metadata": {},
   "outputs": [
    {
     "data": {
      "text/plain": [
       "get_latent_dist (generic function with 2 methods)"
      ]
     },
     "execution_count": 137,
     "metadata": {},
     "output_type": "execute_result"
    }
   ],
   "source": [
    "function latent_encode(x, U, Σ, k)\n",
    "    s = inv(Σ[1:k,1:k])*transpose(U[:, 1:k])*x;\n",
    "    return s\n",
    "end\n",
    "\n",
    "function get_latent_dist(x1, x2, U, Σ, k)\n",
    "    s1 = latent_encode(x1, U, Σ, k);\n",
    "    s2 = latent_encode(x2, U, Σ, k);\n",
    "    denom =  norm(s1) * norm(s2);\n",
    "    numerator = dot(s1,s2)\n",
    "    return numerator/denom\n",
    "end"
   ]
  },
  {
   "cell_type": "code",
   "execution_count": 138,
   "metadata": {},
   "outputs": [
    {
     "data": {
      "text/plain": [
       "get_sim_mat (generic function with 1 method)"
      ]
     },
     "execution_count": 138,
     "metadata": {},
     "output_type": "execute_result"
    }
   ],
   "source": [
    "function get_sim_mat(M̃, U, Σ, k)\n",
    "    similarity_mat = zeros(10,10)\n",
    "    \n",
    "    for i = 1:size(M̃,2)\n",
    "        for j = 1:size(M̃,2)\n",
    "            similarity_mat[i,j] = get_latent_dist(M̃[:,i], M̃[:,j], U, Σ, k)\n",
    "            if i == j\n",
    "                similarity_mat[i,j] = 0\n",
    "            end\n",
    "        end\n",
    "    end\n",
    "    \n",
    "    return similarity_mat\n",
    "end"
   ]
  },
  {
   "cell_type": "code",
   "execution_count": 139,
   "metadata": {},
   "outputs": [],
   "source": [
    "sim_mat = get_sim_mat(M̃, U, Σ, 9);"
   ]
  },
  {
   "cell_type": "code",
   "execution_count": 140,
   "metadata": {},
   "outputs": [
    {
     "data": {
      "text/plain": [
       "rank_order_sim (generic function with 1 method)"
      ]
     },
     "execution_count": 140,
     "metadata": {},
     "output_type": "execute_result"
    }
   ],
   "source": [
    "function rank_order_sim(sim_mat_in)\n",
    "    sim_mat = copy(sim_mat_in)\n",
    "    for i = 1:size(sim_mat,1)\n",
    "        mx = argmax(sim_mat)\n",
    "        println(i,\": \",mx)\n",
    "        sim_mat[mx] = -1000\n",
    "        sim_mat[mx[2],mx[1]] = -1000\n",
    "    end\n",
    "end"
   ]
  },
  {
   "cell_type": "code",
   "execution_count": 141,
   "metadata": {},
   "outputs": [
    {
     "data": {
      "text/plain": [
       "find_sim (generic function with 1 method)"
      ]
     },
     "execution_count": 141,
     "metadata": {},
     "output_type": "execute_result"
    }
   ],
   "source": [
    "function find_sim(M̃, U, Σ, k)\n",
    "    sim_mat = get_sim_mat(M̃, U, Σ, k);\n",
    "    println(\"For k = \",k,\", the top similar vectors are: \")\n",
    "    rank_order_sim(sim_mat)\n",
    "end"
   ]
  },
  {
   "cell_type": "code",
   "execution_count": 142,
   "metadata": {},
   "outputs": [
    {
     "name": "stdout",
     "output_type": "stream",
     "text": [
      "For k = 9, the top similar vectors are: \n",
      "1: CartesianIndex(10, 9)\n",
      "2: CartesianIndex(10, 8)\n",
      "3: CartesianIndex(10, 7)\n",
      "4: CartesianIndex(9, 5)\n",
      "5: CartesianIndex(10, 1)\n",
      "6: CartesianIndex(8, 5)\n",
      "7: CartesianIndex(10, 4)\n",
      "8: CartesianIndex(9, 6)\n",
      "9: CartesianIndex(7, 5)\n",
      "10: CartesianIndex(8, 6)\n"
     ]
    }
   ],
   "source": [
    "find_sim(M̃, U, Σ, 9)"
   ]
  },
  {
   "cell_type": "code",
   "execution_count": 143,
   "metadata": {},
   "outputs": [
    {
     "name": "stdout",
     "output_type": "stream",
     "text": [
      "For k = 8, the top similar vectors are: \n",
      "1: CartesianIndex(10, 9)\n",
      "2: CartesianIndex(8, 2)\n",
      "3: CartesianIndex(10, 8)\n",
      "4: CartesianIndex(4, 2)\n",
      "5: CartesianIndex(9, 5)\n",
      "6: CartesianIndex(5, 2)\n",
      "7: CartesianIndex(10, 7)\n",
      "8: CartesianIndex(9, 4)\n",
      "9: CartesianIndex(10, 1)\n",
      "10: CartesianIndex(10, 4)\n"
     ]
    }
   ],
   "source": [
    "find_sim(M̃, U, Σ, 8)"
   ]
  },
  {
   "cell_type": "code",
   "execution_count": 144,
   "metadata": {},
   "outputs": [
    {
     "name": "stdout",
     "output_type": "stream",
     "text": [
      "For k = 7, the top similar vectors are: \n",
      "1: CartesianIndex(10, 9)\n",
      "2: CartesianIndex(10, 8)\n",
      "3: CartesianIndex(6, 2)\n",
      "4: CartesianIndex(8, 2)\n",
      "5: CartesianIndex(4, 2)\n",
      "6: CartesianIndex(8, 3)\n",
      "7: CartesianIndex(3, 2)\n",
      "8: CartesianIndex(8, 6)\n",
      "9: CartesianIndex(9, 5)\n",
      "10: CartesianIndex(5, 2)\n"
     ]
    }
   ],
   "source": [
    "find_sim(M̃, U, Σ, 7) # Lowest k that does not change top-ranked pair."
   ]
  },
  {
   "cell_type": "code",
   "execution_count": 149,
   "metadata": {},
   "outputs": [
    {
     "name": "stdout",
     "output_type": "stream",
     "text": [
      "For k = 6, the top similar vectors are: \n",
      "1: CartesianIndex(10, 9)\n",
      "2: CartesianIndex(4, 2)\n",
      "3: CartesianIndex(10, 8)\n",
      "4: CartesianIndex(3, 2)\n",
      "5: CartesianIndex(8, 3)\n",
      "6: CartesianIndex(7, 6)\n",
      "7: CartesianIndex(9, 5)\n",
      "8: CartesianIndex(8, 2)\n",
      "9: CartesianIndex(6, 4)\n",
      "10: CartesianIndex(7, 5)\n"
     ]
    }
   ],
   "source": [
    "find_sim(M̃, U, Σ, 6) # Most similar documents for k-1"
   ]
  },
  {
   "cell_type": "code",
   "execution_count": 150,
   "metadata": {},
   "outputs": [
    {
     "name": "stdout",
     "output_type": "stream",
     "text": [
      "For k = 5, the top similar vectors are: \n",
      "1: CartesianIndex(10, 9)\n",
      "2: CartesianIndex(4, 2)\n",
      "3: CartesianIndex(10, 8)\n",
      "4: CartesianIndex(9, 8)\n",
      "5: CartesianIndex(6, 4)\n",
      "6: CartesianIndex(3, 2)\n",
      "7: CartesianIndex(5, 3)\n",
      "8: CartesianIndex(7, 5)\n",
      "9: CartesianIndex(7, 6)\n",
      "10: CartesianIndex(8, 3)\n"
     ]
    }
   ],
   "source": [
    "find_sim(M̃, U, Σ, 5) # Most similar documents for k-1"
   ]
  },
  {
   "cell_type": "code",
   "execution_count": 151,
   "metadata": {},
   "outputs": [
    {
     "name": "stdout",
     "output_type": "stream",
     "text": [
      "For k = 4, the top similar vectors are: \n",
      "1: CartesianIndex(10, 9)\n",
      "2: CartesianIndex(4, 2)\n",
      "3: CartesianIndex(2, 1)\n",
      "4: CartesianIndex(10, 8)\n",
      "5: CartesianIndex(9, 8)\n",
      "6: CartesianIndex(5, 3)\n",
      "7: CartesianIndex(4, 1)\n",
      "8: CartesianIndex(6, 4)\n",
      "9: CartesianIndex(7, 5)\n",
      "10: CartesianIndex(6, 1)\n"
     ]
    }
   ],
   "source": [
    "find_sim(M̃, U, Σ, 4) # Most similar documents for k-1"
   ]
  },
  {
   "cell_type": "code",
   "execution_count": 152,
   "metadata": {},
   "outputs": [
    {
     "name": "stdout",
     "output_type": "stream",
     "text": [
      "For k = 3, the top similar vectors are: \n",
      "1: CartesianIndex(10, 9)\n",
      "2: CartesianIndex(6, 1)\n",
      "3: CartesianIndex(10, 8)\n",
      "4: CartesianIndex(7, 5)\n",
      "5: CartesianIndex(4, 2)\n",
      "6: CartesianIndex(9, 8)\n",
      "7: CartesianIndex(6, 2)\n",
      "8: CartesianIndex(5, 3)\n",
      "9: CartesianIndex(2, 1)\n",
      "10: CartesianIndex(7, 3)\n"
     ]
    }
   ],
   "source": [
    "find_sim(M̃, U, Σ, 3) # Most similar documents for k-1"
   ]
  },
  {
   "cell_type": "code",
   "execution_count": 153,
   "metadata": {},
   "outputs": [
    {
     "name": "stdout",
     "output_type": "stream",
     "text": [
      "For k = 2, the top similar vectors are: \n",
      "1: CartesianIndex(6, 1)\n",
      "2: CartesianIndex(10, 9)\n",
      "3: CartesianIndex(6, 2)\n",
      "4: CartesianIndex(2, 1)\n",
      "5: CartesianIndex(7, 5)\n",
      "6: CartesianIndex(10, 8)\n",
      "7: CartesianIndex(3, 2)\n",
      "8: CartesianIndex(4, 1)\n",
      "9: CartesianIndex(9, 8)\n",
      "10: CartesianIndex(6, 4)\n"
     ]
    }
   ],
   "source": [
    "find_sim(M̃, U, Σ, 2) # Most similar documents for k-1"
   ]
  },
  {
   "cell_type": "code",
   "execution_count": null,
   "metadata": {},
   "outputs": [],
   "source": []
  }
 ],
 "metadata": {
  "kernelspec": {
   "display_name": "Julia 1.5.1",
   "language": "julia",
   "name": "julia-1.5"
  },
  "language_info": {
   "file_extension": ".jl",
   "mimetype": "application/julia",
   "name": "julia",
   "version": "1.5.1"
  },
  "nteract": {
   "version": "0.25.1"
  }
 },
 "nbformat": 4,
 "nbformat_minor": 4
}
