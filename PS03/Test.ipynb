{
 "cells": [
  {
   "cell_type": "code",
   "execution_count": 7,
   "metadata": {},
   "outputs": [
    {
     "data": {
      "text/plain": [
       "10×10 Array{Int64,2}:\n",
       " 171   15    9    1   29    9    9    9   14   3\n",
       "   1  210    5    3    2   42    0   12    0   7\n",
       "   9    7  189    5    5   15   10   10    1   2\n",
       "   4   32   10  140   13   37   11   10    7  23\n",
       "   8   59   11   11  115   44    9    4   10   2\n",
       "   5   32    8    2    1  205    4    3    5   3\n",
       "   3    5    6    5    0    8  156   93    4   1\n",
       "   4    9    3    3    0    0   40  214    3   2\n",
       "   5    9    3    6   16   56   31    7  157   0\n",
       "   0   66    5   11    1   21    2    6    1  79"
      ]
     },
     "execution_count": 7,
     "metadata": {},
     "output_type": "execute_result"
    }
   ],
   "source": [
    "using LinearAlgebra\n",
    "A = [171  15   9   1  29   9   9   9  14   3;\n",
    "      1 210   5   3   2  42   0  12   0   7;\n",
    "      9   7 189   5   5  15  10  10   1   2;\n",
    "      4  32  10 140  13  37  11  10   7  23;\n",
    "      8  59  11  11 115  44   9   4  10   2;\n",
    "      5  32   8   2   1 205   4   3   5   3;\n",
    "      3   5   6   5   0   8 156  93   4   1;\n",
    "      4   9   3   3   0   0  40 214   3   2;\n",
    "      5   9   3   6  16  56  31   7 157   0;\n",
    "      0  66   5  11   1  21   2   6   1  79]"
   ]
  },
  {
   "cell_type": "code",
   "execution_count": 8,
   "metadata": {},
   "outputs": [
    {
     "data": {
      "text/plain": [
       "10×10 Array{Int64,2}:\n",
       " 171   15    9    1   29    9    9    9   14   3\n",
       "   1  210    5    3    2   42    0   12    0   7\n",
       "   9    7  189    5    5   15   10   10    1   2\n",
       "   4   32   10  140   13   37   11   10    7  23\n",
       "   8   59   11   11  115   44    9    4   10   2\n",
       "   5   32    8    2    1  205    4    3    5   3\n",
       "   3    5    6    5    0    8  156   93    4   1\n",
       "   4    9    3    3    0    0   40  214    3   2\n",
       "   5    9    3    6   16   56   31    7  157   0\n",
       "   0   66    5   11    1   21    2    6    1  79"
      ]
     },
     "execution_count": 8,
     "metadata": {},
     "output_type": "execute_result"
    }
   ],
   "source": [
    "A"
   ]
  },
  {
   "cell_type": "code",
   "execution_count": 9,
   "metadata": {},
   "outputs": [
    {
     "data": {
      "text/plain": [
       "10×10 Array{Int64,2}:\n",
       " 342   16   18    5   37   14   12   13   19    3\n",
       "  16  420   12   35   61   74    5   21    9   73\n",
       "  18   12  378   15   16   23   16   13    4    7\n",
       "   5   35   15  280   24   39   16   13   13   34\n",
       "  37   61   16   24  230   45    9    4   26    3\n",
       "  14   74   23   39   45  410   12    3   61   24\n",
       "  12    5   16   16    9   12  312  133   35    3\n",
       "  13   21   13   13    4    3  133  428   10    8\n",
       "  19    9    4   13   26   61   35   10  314    1\n",
       "   3   73    7   34    3   24    3    8    1  158"
      ]
     },
     "execution_count": 9,
     "metadata": {},
     "output_type": "execute_result"
    }
   ],
   "source": [
    "B = A+transpose(A)"
   ]
  },
  {
   "cell_type": "code",
   "execution_count": 16,
   "metadata": {},
   "outputs": [
    {
     "data": {
      "text/plain": [
       "10×10 Array{Int64,2}:\n",
       " -658    16    18     5    37    14    12    13    19     3\n",
       "   16  -580    12    35    61    74     5    21     9    73\n",
       "   18    12  -622    15    16    23    16    13     4     7\n",
       "    5    35    15  -720    24    39    16    13    13    34\n",
       "   37    61    16    24  -770    45     9     4    26     3\n",
       "   14    74    23    39    45  -590    12     3    61    24\n",
       "   12     5    16    16     9    12  -688   133    35     3\n",
       "   13    21    13    13     4     3   133  -572    10     8\n",
       "   19     9     4    13    26    61    35    10  -686     1\n",
       "    3    73     7    34     3    24     3     8     1  -842"
      ]
     },
     "execution_count": 16,
     "metadata": {},
     "output_type": "execute_result"
    }
   ],
   "source": [
    "C = A+transpose(A) - I(10)*1000"
   ]
  },
  {
   "cell_type": "code",
   "execution_count": 17,
   "metadata": {},
   "outputs": [
    {
     "data": {
      "text/plain": [
       "133"
      ]
     },
     "execution_count": 17,
     "metadata": {},
     "output_type": "execute_result"
    }
   ],
   "source": [
    "maximum(C)"
   ]
  },
  {
   "cell_type": "code",
   "execution_count": null,
   "metadata": {},
   "outputs": [],
   "source": []
  }
 ],
 "metadata": {
  "kernelspec": {
   "display_name": "Julia 1.5.1",
   "language": "julia",
   "name": "julia-1.5"
  },
  "language_info": {
   "file_extension": ".jl",
   "mimetype": "application/julia",
   "name": "julia",
   "version": "1.5.1"
  }
 },
 "nbformat": 4,
 "nbformat_minor": 4
}
